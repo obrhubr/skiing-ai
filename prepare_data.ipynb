{
 "cells": [
  {
   "cell_type": "code",
   "execution_count": 48,
   "metadata": {},
   "outputs": [],
   "source": [
    "import pandas as pd\n",
    "import seaborn as sns\n",
    "import matplotlib.pyplot as plt\n",
    "import numpy as np"
   ]
  },
  {
   "cell_type": "code",
   "execution_count": 49,
   "metadata": {},
   "outputs": [],
   "source": [
    "prefix = \"train\""
   ]
  },
  {
   "cell_type": "code",
   "execution_count": 50,
   "metadata": {},
   "outputs": [],
   "source": [
    "df = pd.read_csv(\"./data/\" + prefix + \"/labelled.csv\")"
   ]
  },
  {
   "cell_type": "code",
   "execution_count": 51,
   "metadata": {},
   "outputs": [],
   "source": [
    "# take 100 sequential data points with the same label and transform into (100, 2, 3)\n",
    "# 100 rows, 2 columns (gyro, accel), 3 dims (x, y, z)\n",
    "\n",
    "train_df = pd.DataFrame()\n",
    "\n",
    "# Augment training data\n",
    "datapoints = 100\n",
    "# Every n steps take the next 100 datapoints and add them as a row\n",
    "n_steps = 25\n",
    "# The ratio datapoints/n_steps is how much the data will be augmented\n",
    "\n",
    "for i in range(df.index.start, df.index.stop, n_steps):\n",
    "\tif len(set(list(df.loc[i:i+datapoints-1][\"label\"]))) != 1:\n",
    "\t\tcontinue\n",
    "\n",
    "\tgyro_x = list(df.loc[i:i+datapoints-1][\"x_gyro\"])\n",
    "\tgyro_y = list(df.loc[i:i+datapoints-1][\"y_gyro\"])\n",
    "\tgyro_z = list(df.loc[i:i+datapoints-1][\"z_gyro\"])\n",
    "\n",
    "\tacce_x = list(df.loc[i:i+datapoints-1][\"x\"])\n",
    "\tacce_y = list(df.loc[i:i+datapoints-1][\"y\"])\n",
    "\tacce_z = list(df.loc[i:i+datapoints-1][\"z\"])\n",
    "\n",
    "\tnew_df_dict = dict()\n",
    "\tfor (col, name) in [(gyro_x, \"gyro_x\"), (gyro_y, \"gyro_y\"), (gyro_z, \"gyro_z\"), (acce_x, \"acce_x\"), (acce_y, \"acce_y\"), (acce_z, \"acce_z\")]:\n",
    "\t\tif len(col) == datapoints:\n",
    "\t\t\tfor c in range(datapoints):\n",
    "\t\t\t\tnew_df_dict[name + \"_\" + str(c)] = [col[c]]\n",
    "\n",
    "\n",
    "\tnew_df_dict[\"longitude\"] = [df.loc[i][\"longitude\"]]\n",
    "\tnew_df_dict[\"latitude\"] = [df.loc[i][\"latitude\"]]\n",
    "\tnew_df_dict[\"label\"] = [df.loc[i][\"label\"]]\n",
    "\n",
    "\tnew_df = pd.DataFrame.from_dict(new_df_dict)\n",
    "\t\n",
    "\ttrain_df = pd.concat([train_df, new_df], ignore_index = True)"
   ]
  },
  {
   "cell_type": "code",
   "execution_count": 52,
   "metadata": {},
   "outputs": [],
   "source": [
    "train_df[\"label\"] = train_df[\"label\"].map({\"lift\": 0, \"piste\": 1})"
   ]
  },
  {
   "cell_type": "code",
   "execution_count": 53,
   "metadata": {},
   "outputs": [],
   "source": [
    "train_df = train_df.dropna()"
   ]
  },
  {
   "cell_type": "code",
   "execution_count": 54,
   "metadata": {},
   "outputs": [
    {
     "data": {
      "text/plain": [
       "0    9246\n",
       "1    3321\n",
       "Name: label, dtype: int64"
      ]
     },
     "execution_count": 54,
     "metadata": {},
     "output_type": "execute_result"
    }
   ],
   "source": [
    "train_df[\"label\"].value_counts()"
   ]
  },
  {
   "cell_type": "code",
   "execution_count": 55,
   "metadata": {},
   "outputs": [],
   "source": [
    "train_df.to_csv(\"./data/\" + prefix + \"/\" + prefix + \".csv\", index=False)"
   ]
  }
 ],
 "metadata": {
  "kernelspec": {
   "display_name": "Python 3",
   "language": "python",
   "name": "python3"
  },
  "language_info": {
   "codemirror_mode": {
    "name": "ipython",
    "version": 3
   },
   "file_extension": ".py",
   "mimetype": "text/x-python",
   "name": "python",
   "nbconvert_exporter": "python",
   "pygments_lexer": "ipython3",
   "version": "3.8.10"
  }
 },
 "nbformat": 4,
 "nbformat_minor": 2
}

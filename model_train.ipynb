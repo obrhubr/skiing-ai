{
 "cells": [
  {
   "cell_type": "code",
   "execution_count": 1,
   "metadata": {},
   "outputs": [
    {
     "name": "stderr",
     "output_type": "stream",
     "text": [
      "2024-01-27 13:47:47.105019: W tensorflow/stream_executor/platform/default/dso_loader.cc:64] Could not load dynamic library 'libcudart.so.11.0'; dlerror: libcudart.so.11.0: cannot open shared object file: No such file or directory\n",
      "2024-01-27 13:47:47.105062: I tensorflow/stream_executor/cuda/cudart_stub.cc:29] Ignore above cudart dlerror if you do not have a GPU set up on your machine.\n"
     ]
    }
   ],
   "source": [
    "import pandas as pd\n",
    "import seaborn as sns\n",
    "import matplotlib.pyplot as plt\n",
    "import numpy as np\n",
    "\n",
    "from utils import *"
   ]
  },
  {
   "cell_type": "code",
   "execution_count": 2,
   "metadata": {},
   "outputs": [],
   "source": [
    "import tensorflow as tf\n",
    "import keras"
   ]
  },
  {
   "cell_type": "code",
   "execution_count": 13,
   "metadata": {},
   "outputs": [
    {
     "name": "stdout",
     "output_type": "stream",
     "text": [
      "Training on dataset with  400 datapoints...\n",
      "Loading training data...\n",
      "Loading training data (type= train datapoints= 400 )...\n",
      "Reshaping input for convolution...\n"
     ]
    }
   ],
   "source": [
    "# train convolutional model\n",
    "\n",
    "epochs = 60\n",
    "batch_size = 32\n",
    "\n",
    "# dataset specific\n",
    "channels = 6\n",
    "datapoints = 400\n",
    "\n",
    "model = create_conv_model(channels, datapoints)\n",
    "\n",
    "print(\"Training on dataset with \", datapoints, \"datapoints...\")\n",
    "\n",
    "print(\"Loading training data...\")\n",
    "(df, X_conv, y) = get_data_conv(\"train\", datapoints, channels) #, extra=\"quat\""
   ]
  },
  {
   "cell_type": "code",
   "execution_count": 19,
   "metadata": {},
   "outputs": [
    {
     "name": "stdout",
     "output_type": "stream",
     "text": [
      "Training model...\n",
      "Epoch 1/60\n",
      "193/193 [==============================] - 9s 45ms/step - loss: 0.0241 - accuracy: 0.9919 - val_loss: 0.9819 - val_accuracy: 0.8199\n",
      "Epoch 2/60\n",
      "193/193 [==============================] - 8s 43ms/step - loss: 0.0204 - accuracy: 0.9928 - val_loss: 0.9357 - val_accuracy: 0.8264\n",
      "Epoch 3/60\n",
      "193/193 [==============================] - 8s 42ms/step - loss: 0.0207 - accuracy: 0.9928 - val_loss: 1.3214 - val_accuracy: 0.7835\n",
      "Epoch 4/60\n",
      "193/193 [==============================] - 9s 48ms/step - loss: 0.0116 - accuracy: 0.9966 - val_loss: 1.4262 - val_accuracy: 0.7835\n",
      "Epoch 5/60\n",
      "193/193 [==============================] - 9s 46ms/step - loss: 0.0170 - accuracy: 0.9945 - val_loss: 0.7573 - val_accuracy: 0.8296\n",
      "Epoch 6/60\n",
      "193/193 [==============================] - 9s 46ms/step - loss: 0.0169 - accuracy: 0.9943 - val_loss: 1.7011 - val_accuracy: 0.7737\n",
      "Epoch 7/60\n",
      "193/193 [==============================] - 8s 42ms/step - loss: 0.0194 - accuracy: 0.9950 - val_loss: 0.8817 - val_accuracy: 0.8290\n",
      "Epoch 8/60\n",
      "193/193 [==============================] - 8s 41ms/step - loss: 0.0090 - accuracy: 0.9972 - val_loss: 1.8244 - val_accuracy: 0.7861\n",
      "Epoch 9/60\n",
      "193/193 [==============================] - 8s 41ms/step - loss: 0.0134 - accuracy: 0.9961 - val_loss: 1.2564 - val_accuracy: 0.8023\n",
      "Epoch 10/60\n",
      "193/193 [==============================] - 8s 42ms/step - loss: 0.0146 - accuracy: 0.9954 - val_loss: 0.8260 - val_accuracy: 0.8322\n",
      "Epoch 11/60\n",
      "193/193 [==============================] - 9s 47ms/step - loss: 0.0054 - accuracy: 0.9992 - val_loss: 1.2145 - val_accuracy: 0.8062\n",
      "Epoch 12/60\n",
      "193/193 [==============================] - 9s 46ms/step - loss: 0.0307 - accuracy: 0.9899 - val_loss: 1.4024 - val_accuracy: 0.7854\n",
      "Epoch 13/60\n",
      "193/193 [==============================] - 9s 45ms/step - loss: 0.0108 - accuracy: 0.9964 - val_loss: 1.3678 - val_accuracy: 0.7939\n",
      "Epoch 14/60\n",
      "193/193 [==============================] - 12s 61ms/step - loss: 0.0082 - accuracy: 0.9976 - val_loss: 1.1507 - val_accuracy: 0.7991\n",
      "Epoch 15/60\n",
      "193/193 [==============================] - 16s 83ms/step - loss: 0.0167 - accuracy: 0.9945 - val_loss: 0.7793 - val_accuracy: 0.8283\n",
      "Epoch 16/60\n",
      "193/193 [==============================] - 16s 85ms/step - loss: 0.0078 - accuracy: 0.9982 - val_loss: 0.9461 - val_accuracy: 0.8140\n",
      "Epoch 17/60\n",
      "193/193 [==============================] - 16s 85ms/step - loss: 0.0051 - accuracy: 0.9985 - val_loss: 1.4986 - val_accuracy: 0.7991\n",
      "Epoch 18/60\n",
      "193/193 [==============================] - 16s 82ms/step - loss: 0.0203 - accuracy: 0.9941 - val_loss: 1.0676 - val_accuracy: 0.8244\n",
      "Epoch 19/60\n",
      "193/193 [==============================] - 16s 82ms/step - loss: 0.0141 - accuracy: 0.9961 - val_loss: 0.9173 - val_accuracy: 0.8277\n",
      "Epoch 20/60\n",
      "193/193 [==============================] - 16s 82ms/step - loss: 0.0145 - accuracy: 0.9953 - val_loss: 1.9513 - val_accuracy: 0.7939\n",
      "Epoch 21/60\n",
      "193/193 [==============================] - 15s 80ms/step - loss: 0.0037 - accuracy: 0.9995 - val_loss: 0.8798 - val_accuracy: 0.8362\n",
      "Epoch 22/60\n",
      "193/193 [==============================] - 16s 81ms/step - loss: 0.0035 - accuracy: 0.9993 - val_loss: 1.0630 - val_accuracy: 0.8231\n",
      "Epoch 23/60\n",
      "193/193 [==============================] - 16s 81ms/step - loss: 0.0028 - accuracy: 0.9997 - val_loss: 1.1415 - val_accuracy: 0.8147\n",
      "Epoch 24/60\n",
      "193/193 [==============================] - 16s 81ms/step - loss: 0.0085 - accuracy: 0.9977 - val_loss: 1.1156 - val_accuracy: 0.8199\n",
      "Epoch 25/60\n",
      "193/193 [==============================] - 15s 80ms/step - loss: 0.0193 - accuracy: 0.9945 - val_loss: 1.3233 - val_accuracy: 0.8160\n",
      "Epoch 26/60\n",
      "193/193 [==============================] - 15s 80ms/step - loss: 0.0054 - accuracy: 0.9987 - val_loss: 0.8561 - val_accuracy: 0.8336\n",
      "Epoch 27/60\n",
      "193/193 [==============================] - 15s 80ms/step - loss: 0.0050 - accuracy: 0.9985 - val_loss: 1.3174 - val_accuracy: 0.8179\n",
      "Epoch 28/60\n",
      "193/193 [==============================] - 16s 83ms/step - loss: 0.0035 - accuracy: 0.9990 - val_loss: 1.6960 - val_accuracy: 0.7880\n",
      "Epoch 29/60\n",
      "193/193 [==============================] - 15s 80ms/step - loss: 0.0031 - accuracy: 0.9992 - val_loss: 1.1363 - val_accuracy: 0.8121\n",
      "Epoch 30/60\n",
      "193/193 [==============================] - 16s 81ms/step - loss: 0.0030 - accuracy: 0.9995 - val_loss: 1.8009 - val_accuracy: 0.8023\n",
      "Epoch 31/60\n",
      "193/193 [==============================] - 15s 80ms/step - loss: 0.0064 - accuracy: 0.9979 - val_loss: 1.4317 - val_accuracy: 0.8043\n",
      "Epoch 32/60\n",
      "193/193 [==============================] - 16s 82ms/step - loss: 0.0035 - accuracy: 0.9987 - val_loss: 1.7350 - val_accuracy: 0.8101\n",
      "Epoch 33/60\n",
      "193/193 [==============================] - 16s 83ms/step - loss: 0.0201 - accuracy: 0.9937 - val_loss: 0.8780 - val_accuracy: 0.8147\n",
      "Epoch 34/60\n",
      "193/193 [==============================] - 16s 81ms/step - loss: 0.0093 - accuracy: 0.9971 - val_loss: 0.6610 - val_accuracy: 0.8557\n",
      "Epoch 35/60\n",
      "193/193 [==============================] - 16s 82ms/step - loss: 0.0260 - accuracy: 0.9914 - val_loss: 0.9693 - val_accuracy: 0.8309\n",
      "Epoch 36/60\n",
      "193/193 [==============================] - 16s 82ms/step - loss: 0.0066 - accuracy: 0.9979 - val_loss: 1.4676 - val_accuracy: 0.7997\n",
      "Epoch 37/60\n",
      "193/193 [==============================] - 16s 81ms/step - loss: 0.0025 - accuracy: 0.9998 - val_loss: 1.1183 - val_accuracy: 0.8257\n",
      "Epoch 38/60\n",
      "193/193 [==============================] - 16s 83ms/step - loss: 0.0020 - accuracy: 0.9998 - val_loss: 1.1527 - val_accuracy: 0.8283\n",
      "Epoch 39/60\n",
      "193/193 [==============================] - 16s 81ms/step - loss: 0.0025 - accuracy: 0.9993 - val_loss: 1.0990 - val_accuracy: 0.8270\n",
      "Epoch 40/60\n",
      "193/193 [==============================] - 16s 82ms/step - loss: 0.0042 - accuracy: 0.9990 - val_loss: 0.7468 - val_accuracy: 0.8583\n",
      "Epoch 41/60\n",
      "193/193 [==============================] - 16s 82ms/step - loss: 0.0134 - accuracy: 0.9953 - val_loss: 1.4140 - val_accuracy: 0.8166\n",
      "Epoch 42/60\n",
      "193/193 [==============================] - 16s 80ms/step - loss: 0.0052 - accuracy: 0.9982 - val_loss: 1.4992 - val_accuracy: 0.8062\n",
      "Epoch 43/60\n",
      "193/193 [==============================] - 16s 84ms/step - loss: 0.0047 - accuracy: 0.9992 - val_loss: 1.1573 - val_accuracy: 0.8166\n",
      "Epoch 44/60\n",
      "193/193 [==============================] - 17s 88ms/step - loss: 0.0016 - accuracy: 0.9998 - val_loss: 1.3257 - val_accuracy: 0.8101\n",
      "Epoch 45/60\n",
      "193/193 [==============================] - 16s 84ms/step - loss: 0.0025 - accuracy: 0.9995 - val_loss: 1.5658 - val_accuracy: 0.8056\n",
      "Epoch 46/60\n",
      "193/193 [==============================] - 16s 83ms/step - loss: 0.0013 - accuracy: 0.9998 - val_loss: 2.1370 - val_accuracy: 0.7841\n",
      "Epoch 47/60\n",
      "193/193 [==============================] - 16s 81ms/step - loss: 0.0231 - accuracy: 0.9919 - val_loss: 1.0246 - val_accuracy: 0.8362\n",
      "Epoch 48/60\n",
      "193/193 [==============================] - 16s 85ms/step - loss: 0.0029 - accuracy: 0.9995 - val_loss: 1.1711 - val_accuracy: 0.8270\n",
      "Epoch 49/60\n",
      "193/193 [==============================] - 16s 82ms/step - loss: 0.0019 - accuracy: 0.9997 - val_loss: 1.1222 - val_accuracy: 0.8257\n",
      "Epoch 50/60\n",
      "193/193 [==============================] - 16s 81ms/step - loss: 0.0013 - accuracy: 0.9998 - val_loss: 1.3815 - val_accuracy: 0.8199\n",
      "Epoch 51/60\n",
      "193/193 [==============================] - 16s 82ms/step - loss: 0.0017 - accuracy: 0.9995 - val_loss: 1.3861 - val_accuracy: 0.8121\n",
      "Epoch 52/60\n",
      "193/193 [==============================] - 16s 82ms/step - loss: 0.0048 - accuracy: 0.9989 - val_loss: 1.3957 - val_accuracy: 0.8134\n",
      "Epoch 53/60\n",
      "193/193 [==============================] - 16s 82ms/step - loss: 0.0014 - accuracy: 0.9998 - val_loss: 1.6413 - val_accuracy: 0.7991\n",
      "Epoch 54/60\n",
      "193/193 [==============================] - 16s 82ms/step - loss: 0.0098 - accuracy: 0.9964 - val_loss: 1.5023 - val_accuracy: 0.8095\n",
      "Epoch 55/60\n",
      "193/193 [==============================] - 16s 81ms/step - loss: 0.0014 - accuracy: 1.0000 - val_loss: 1.8719 - val_accuracy: 0.8010\n",
      "Epoch 56/60\n",
      "193/193 [==============================] - 16s 82ms/step - loss: 0.0031 - accuracy: 0.9990 - val_loss: 2.6066 - val_accuracy: 0.7854\n",
      "Epoch 57/60\n",
      "193/193 [==============================] - 16s 82ms/step - loss: 0.0039 - accuracy: 0.9993 - val_loss: 1.8556 - val_accuracy: 0.8036\n",
      "Epoch 58/60\n",
      "193/193 [==============================] - 16s 81ms/step - loss: 0.0026 - accuracy: 0.9990 - val_loss: 1.5431 - val_accuracy: 0.8231\n",
      "Epoch 59/60\n",
      "193/193 [==============================] - 16s 82ms/step - loss: 0.0013 - accuracy: 1.0000 - val_loss: 1.1118 - val_accuracy: 0.8355\n",
      "Epoch 60/60\n",
      "193/193 [==============================] - 16s 82ms/step - loss: 7.9197e-04 - accuracy: 1.0000 - val_loss: 1.4119 - val_accuracy: 0.8173\n"
     ]
    },
    {
     "data": {
      "text/plain": [
       "<keras.callbacks.History at 0x7f0a7e3ccf70>"
      ]
     },
     "execution_count": 19,
     "metadata": {},
     "output_type": "execute_result"
    }
   ],
   "source": [
    "print(\"Training model...\")\n",
    "epochs=60\n",
    "model.fit(X_conv, y, \n",
    "    batch_size=batch_size,\n",
    "    epochs=epochs,\n",
    "    validation_split=0.2,\n",
    "    verbose=1\n",
    ")"
   ]
  },
  {
   "cell_type": "code",
   "execution_count": 21,
   "metadata": {},
   "outputs": [
    {
     "name": "stdout",
     "output_type": "stream",
     "text": [
      "Loading test data...\n",
      "Loading training data (type= test datapoints= 400 )...\n",
      "Reshaping input for convolution...\n"
     ]
    }
   ],
   "source": [
    "# get stats on test data\n",
    "print(\"Loading test data...\")\n",
    "(df, X_test_conv, y_test) = get_data_conv(\"test\", datapoints, channels) #, extra=\"quat\""
   ]
  },
  {
   "cell_type": "code",
   "execution_count": 22,
   "metadata": {},
   "outputs": [
    {
     "name": "stdout",
     "output_type": "stream",
     "text": [
      "Evaluating model...\n",
      "93/93 [==============================] - 2s 19ms/step - loss: 3.2355 - accuracy: 0.6489\n",
      "Accuracy of model for 400 datapoints:  0.6488964557647705\n"
     ]
    }
   ],
   "source": [
    "print(\"Evaluating model...\")\n",
    "result = model.evaluate(X_test_conv, y_test)\n",
    "print(\"Accuracy of model for \" + str(datapoints) + \" datapoints: \", result[1])"
   ]
  },
  {
   "cell_type": "code",
   "execution_count": 3,
   "metadata": {},
   "outputs": [
    {
     "name": "stderr",
     "output_type": "stream",
     "text": [
      "2024-01-27 11:29:50.345004: I tensorflow/stream_executor/cuda/cuda_gpu_executor.cc:922] could not open file to read NUMA node: /sys/bus/pci/devices/0000:26:00.0/numa_node\n",
      "Your kernel may have been built without NUMA support.\n",
      "2024-01-27 11:29:50.345105: W tensorflow/stream_executor/platform/default/dso_loader.cc:64] Could not load dynamic library 'libcudart.so.11.0'; dlerror: libcudart.so.11.0: cannot open shared object file: No such file or directory\n",
      "2024-01-27 11:29:50.345152: W tensorflow/stream_executor/platform/default/dso_loader.cc:64] Could not load dynamic library 'libcublas.so.11'; dlerror: libcublas.so.11: cannot open shared object file: No such file or directory\n",
      "2024-01-27 11:29:50.345187: W tensorflow/stream_executor/platform/default/dso_loader.cc:64] Could not load dynamic library 'libcublasLt.so.11'; dlerror: libcublasLt.so.11: cannot open shared object file: No such file or directory\n",
      "2024-01-27 11:29:50.345224: W tensorflow/stream_executor/platform/default/dso_loader.cc:64] Could not load dynamic library 'libcufft.so.10'; dlerror: libcufft.so.10: cannot open shared object file: No such file or directory\n",
      "2024-01-27 11:29:50.677158: W tensorflow/stream_executor/platform/default/dso_loader.cc:64] Could not load dynamic library 'libcusparse.so.11'; dlerror: libcusparse.so.11: cannot open shared object file: No such file or directory\n",
      "2024-01-27 11:29:50.679159: W tensorflow/core/common_runtime/gpu/gpu_device.cc:1850] Cannot dlopen some GPU libraries. Please make sure the missing libraries mentioned above are installed properly if you would like to use GPU. Follow the guide at https://www.tensorflow.org/install/gpu for how to download and setup the required libraries for your platform.\n",
      "Skipping registering GPU devices...\n",
      "2024-01-27 11:29:50.680723: I tensorflow/core/platform/cpu_feature_guard.cc:151] This TensorFlow binary is optimized with oneAPI Deep Neural Network Library (oneDNN) to use the following CPU instructions in performance-critical operations:  AVX2 FMA\n",
      "To enable them in other operations, rebuild TensorFlow with the appropriate compiler flags.\n"
     ]
    },
    {
     "name": "stdout",
     "output_type": "stream",
     "text": [
      "Training on dataset with  100 datapoints...\n",
      "Loading training data...\n",
      "Loading training data (type= train datapoints= 100 )...\n",
      "Training model...\n",
      "Epoch 1/60\n",
      "786/786 [==============================] - 2s 2ms/step - loss: 0.3194 - accuracy: 0.8870 - val_loss: 0.7859 - val_accuracy: 0.7350\n",
      "Epoch 2/60\n",
      "786/786 [==============================] - 2s 2ms/step - loss: 0.2138 - accuracy: 0.9210 - val_loss: 0.9361 - val_accuracy: 0.7395\n",
      "Epoch 3/60\n",
      "786/786 [==============================] - 2s 2ms/step - loss: 0.1787 - accuracy: 0.9329 - val_loss: 0.9636 - val_accuracy: 0.7490\n",
      "Epoch 4/60\n",
      "786/786 [==============================] - 2s 3ms/step - loss: 0.1423 - accuracy: 0.9452 - val_loss: 1.2545 - val_accuracy: 0.7449\n",
      "Epoch 5/60\n",
      "786/786 [==============================] - 2s 2ms/step - loss: 0.1164 - accuracy: 0.9565 - val_loss: 1.6243 - val_accuracy: 0.7500\n",
      "Epoch 6/60\n",
      "786/786 [==============================] - 2s 2ms/step - loss: 0.1009 - accuracy: 0.9634 - val_loss: 1.5918 - val_accuracy: 0.7514\n",
      "Epoch 7/60\n",
      "786/786 [==============================] - 2s 2ms/step - loss: 0.0810 - accuracy: 0.9700 - val_loss: 1.5363 - val_accuracy: 0.7446\n",
      "Epoch 8/60\n",
      "786/786 [==============================] - 2s 2ms/step - loss: 0.0730 - accuracy: 0.9731 - val_loss: 2.1986 - val_accuracy: 0.7425\n",
      "Epoch 9/60\n",
      "786/786 [==============================] - 2s 2ms/step - loss: 0.0555 - accuracy: 0.9802 - val_loss: 2.5838 - val_accuracy: 0.7451\n",
      "Epoch 10/60\n",
      "786/786 [==============================] - 1s 2ms/step - loss: 0.0483 - accuracy: 0.9843 - val_loss: 3.1810 - val_accuracy: 0.7519\n",
      "Epoch 11/60\n",
      "786/786 [==============================] - 1s 2ms/step - loss: 0.0487 - accuracy: 0.9848 - val_loss: 2.4555 - val_accuracy: 0.7505\n",
      "Epoch 12/60\n",
      "786/786 [==============================] - 2s 2ms/step - loss: 0.0347 - accuracy: 0.9883 - val_loss: 3.3135 - val_accuracy: 0.7446\n",
      "Epoch 13/60\n",
      "786/786 [==============================] - 1s 2ms/step - loss: 0.0433 - accuracy: 0.9869 - val_loss: 3.7046 - val_accuracy: 0.7537\n",
      "Epoch 14/60\n",
      "786/786 [==============================] - 2s 2ms/step - loss: 0.0259 - accuracy: 0.9929 - val_loss: 3.8494 - val_accuracy: 0.7503\n",
      "Epoch 15/60\n",
      "786/786 [==============================] - 2s 2ms/step - loss: 0.0254 - accuracy: 0.9921 - val_loss: 3.9311 - val_accuracy: 0.7527\n",
      "Epoch 16/60\n",
      "786/786 [==============================] - 2s 2ms/step - loss: 0.0328 - accuracy: 0.9903 - val_loss: 3.9435 - val_accuracy: 0.7478\n",
      "Epoch 17/60\n",
      "786/786 [==============================] - 2s 2ms/step - loss: 0.0355 - accuracy: 0.9894 - val_loss: 3.2058 - val_accuracy: 0.7492\n",
      "Epoch 18/60\n",
      "786/786 [==============================] - 2s 2ms/step - loss: 0.0225 - accuracy: 0.9930 - val_loss: 4.0129 - val_accuracy: 0.7473\n",
      "Epoch 19/60\n",
      "786/786 [==============================] - 2s 2ms/step - loss: 0.0174 - accuracy: 0.9952 - val_loss: 5.4258 - val_accuracy: 0.7484\n",
      "Epoch 20/60\n",
      "786/786 [==============================] - 2s 2ms/step - loss: 0.0269 - accuracy: 0.9921 - val_loss: 3.7459 - val_accuracy: 0.7435\n",
      "Epoch 21/60\n",
      "786/786 [==============================] - 2s 2ms/step - loss: 0.0287 - accuracy: 0.9908 - val_loss: 4.4283 - val_accuracy: 0.7459\n",
      "Epoch 22/60\n",
      "786/786 [==============================] - 2s 2ms/step - loss: 0.0165 - accuracy: 0.9953 - val_loss: 3.6251 - val_accuracy: 0.7481\n",
      "Epoch 23/60\n",
      "541/786 [===================>..........] - ETA: 0s - loss: 0.0144 - accuracy: 0.9954"
     ]
    },
    {
     "ename": "KeyboardInterrupt",
     "evalue": "",
     "output_type": "error",
     "traceback": [
      "\u001b[0;31m---------------------------------------------------------------------------\u001b[0m",
      "\u001b[0;31mKeyboardInterrupt\u001b[0m                         Traceback (most recent call last)",
      "Input \u001b[0;32mIn [3]\u001b[0m, in \u001b[0;36m<cell line: 18>\u001b[0;34m()\u001b[0m\n\u001b[1;32m     15\u001b[0m (df, X, y) \u001b[38;5;241m=\u001b[39m get_data(\u001b[38;5;124m\"\u001b[39m\u001b[38;5;124mtrain\u001b[39m\u001b[38;5;124m\"\u001b[39m, datapoints)\n\u001b[1;32m     17\u001b[0m \u001b[38;5;28mprint\u001b[39m(\u001b[38;5;124m\"\u001b[39m\u001b[38;5;124mTraining model...\u001b[39m\u001b[38;5;124m\"\u001b[39m)\n\u001b[0;32m---> 18\u001b[0m \u001b[43mmodel\u001b[49m\u001b[38;5;241;43m.\u001b[39;49m\u001b[43mfit\u001b[49m\u001b[43m(\u001b[49m\u001b[43mX\u001b[49m\u001b[43m,\u001b[49m\u001b[43m \u001b[49m\u001b[43my\u001b[49m\u001b[43m,\u001b[49m\u001b[43m \u001b[49m\n\u001b[1;32m     19\u001b[0m \u001b[43m    \u001b[49m\u001b[43mbatch_size\u001b[49m\u001b[38;5;241;43m=\u001b[39;49m\u001b[43mbatch_size\u001b[49m\u001b[43m,\u001b[49m\n\u001b[1;32m     20\u001b[0m \u001b[43m    \u001b[49m\u001b[43mepochs\u001b[49m\u001b[38;5;241;43m=\u001b[39;49m\u001b[43mepochs\u001b[49m\u001b[43m,\u001b[49m\n\u001b[1;32m     21\u001b[0m \u001b[43m    \u001b[49m\u001b[43mvalidation_split\u001b[49m\u001b[38;5;241;43m=\u001b[39;49m\u001b[38;5;241;43m0.2\u001b[39;49m\u001b[43m,\u001b[49m\n\u001b[1;32m     22\u001b[0m \u001b[43m    \u001b[49m\u001b[43mverbose\u001b[49m\u001b[38;5;241;43m=\u001b[39;49m\u001b[38;5;241;43m1\u001b[39;49m\n\u001b[1;32m     23\u001b[0m \u001b[43m)\u001b[49m\n",
      "File \u001b[0;32m~/.local/lib/python3.8/site-packages/keras/utils/traceback_utils.py:64\u001b[0m, in \u001b[0;36mfilter_traceback.<locals>.error_handler\u001b[0;34m(*args, **kwargs)\u001b[0m\n\u001b[1;32m     62\u001b[0m filtered_tb \u001b[38;5;241m=\u001b[39m \u001b[38;5;28;01mNone\u001b[39;00m\n\u001b[1;32m     63\u001b[0m \u001b[38;5;28;01mtry\u001b[39;00m:\n\u001b[0;32m---> 64\u001b[0m   \u001b[38;5;28;01mreturn\u001b[39;00m \u001b[43mfn\u001b[49m\u001b[43m(\u001b[49m\u001b[38;5;241;43m*\u001b[39;49m\u001b[43margs\u001b[49m\u001b[43m,\u001b[49m\u001b[43m \u001b[49m\u001b[38;5;241;43m*\u001b[39;49m\u001b[38;5;241;43m*\u001b[39;49m\u001b[43mkwargs\u001b[49m\u001b[43m)\u001b[49m\n\u001b[1;32m     65\u001b[0m \u001b[38;5;28;01mexcept\u001b[39;00m \u001b[38;5;167;01mException\u001b[39;00m \u001b[38;5;28;01mas\u001b[39;00m e:  \u001b[38;5;66;03m# pylint: disable=broad-except\u001b[39;00m\n\u001b[1;32m     66\u001b[0m   filtered_tb \u001b[38;5;241m=\u001b[39m _process_traceback_frames(e\u001b[38;5;241m.\u001b[39m__traceback__)\n",
      "File \u001b[0;32m~/.local/lib/python3.8/site-packages/keras/engine/training.py:1376\u001b[0m, in \u001b[0;36mModel.fit\u001b[0;34m(self, x, y, batch_size, epochs, verbose, callbacks, validation_split, validation_data, shuffle, class_weight, sample_weight, initial_epoch, steps_per_epoch, validation_steps, validation_batch_size, validation_freq, max_queue_size, workers, use_multiprocessing)\u001b[0m\n\u001b[1;32m   1374\u001b[0m callbacks\u001b[38;5;241m.\u001b[39mon_epoch_begin(epoch)\n\u001b[1;32m   1375\u001b[0m \u001b[38;5;28;01mwith\u001b[39;00m data_handler\u001b[38;5;241m.\u001b[39mcatch_stop_iteration():\n\u001b[0;32m-> 1376\u001b[0m   \u001b[38;5;28;01mfor\u001b[39;00m step \u001b[38;5;129;01min\u001b[39;00m data_handler\u001b[38;5;241m.\u001b[39msteps():\n\u001b[1;32m   1377\u001b[0m     \u001b[38;5;28;01mwith\u001b[39;00m tf\u001b[38;5;241m.\u001b[39mprofiler\u001b[38;5;241m.\u001b[39mexperimental\u001b[38;5;241m.\u001b[39mTrace(\n\u001b[1;32m   1378\u001b[0m         \u001b[38;5;124m'\u001b[39m\u001b[38;5;124mtrain\u001b[39m\u001b[38;5;124m'\u001b[39m,\n\u001b[1;32m   1379\u001b[0m         epoch_num\u001b[38;5;241m=\u001b[39mepoch,\n\u001b[1;32m   1380\u001b[0m         step_num\u001b[38;5;241m=\u001b[39mstep,\n\u001b[1;32m   1381\u001b[0m         batch_size\u001b[38;5;241m=\u001b[39mbatch_size,\n\u001b[1;32m   1382\u001b[0m         _r\u001b[38;5;241m=\u001b[39m\u001b[38;5;241m1\u001b[39m):\n\u001b[1;32m   1383\u001b[0m       callbacks\u001b[38;5;241m.\u001b[39mon_train_batch_begin(step)\n",
      "File \u001b[0;32m~/.local/lib/python3.8/site-packages/keras/engine/data_adapter.py:1246\u001b[0m, in \u001b[0;36mDataHandler.steps\u001b[0;34m(self)\u001b[0m\n\u001b[1;32m   1244\u001b[0m \u001b[38;5;28;01mif\u001b[39;00m \u001b[38;5;28mself\u001b[39m\u001b[38;5;241m.\u001b[39m_insufficient_data:  \u001b[38;5;66;03m# Set by `catch_stop_iteration`.\u001b[39;00m\n\u001b[1;32m   1245\u001b[0m   \u001b[38;5;28;01mbreak\u001b[39;00m\n\u001b[0;32m-> 1246\u001b[0m original_spe \u001b[38;5;241m=\u001b[39m \u001b[38;5;28;43mself\u001b[39;49m\u001b[38;5;241;43m.\u001b[39;49m\u001b[43m_steps_per_execution\u001b[49m\u001b[38;5;241;43m.\u001b[39;49m\u001b[43mnumpy\u001b[49m\u001b[43m(\u001b[49m\u001b[43m)\u001b[49m\u001b[38;5;241m.\u001b[39mitem()\n\u001b[1;32m   1247\u001b[0m can_run_full_execution \u001b[38;5;241m=\u001b[39m (\n\u001b[1;32m   1248\u001b[0m     original_spe \u001b[38;5;241m==\u001b[39m \u001b[38;5;241m1\u001b[39m \u001b[38;5;129;01mor\u001b[39;00m\n\u001b[1;32m   1249\u001b[0m     \u001b[38;5;28mself\u001b[39m\u001b[38;5;241m.\u001b[39m_inferred_steps \u001b[38;5;129;01mis\u001b[39;00m \u001b[38;5;28;01mNone\u001b[39;00m \u001b[38;5;129;01mor\u001b[39;00m\n\u001b[1;32m   1250\u001b[0m     \u001b[38;5;28mself\u001b[39m\u001b[38;5;241m.\u001b[39m_inferred_steps \u001b[38;5;241m-\u001b[39m \u001b[38;5;28mself\u001b[39m\u001b[38;5;241m.\u001b[39m_current_step \u001b[38;5;241m>\u001b[39m\u001b[38;5;241m=\u001b[39m\n\u001b[1;32m   1251\u001b[0m     original_spe)\n\u001b[1;32m   1253\u001b[0m \u001b[38;5;28;01mif\u001b[39;00m can_run_full_execution:\n",
      "File \u001b[0;32m~/.local/lib/python3.8/site-packages/tensorflow/python/ops/resource_variable_ops.py:674\u001b[0m, in \u001b[0;36mBaseResourceVariable.numpy\u001b[0;34m(self)\u001b[0m\n\u001b[1;32m    672\u001b[0m \u001b[38;5;28;01mdef\u001b[39;00m \u001b[38;5;21mnumpy\u001b[39m(\u001b[38;5;28mself\u001b[39m):\n\u001b[1;32m    673\u001b[0m   \u001b[38;5;28;01mif\u001b[39;00m context\u001b[38;5;241m.\u001b[39mexecuting_eagerly():\n\u001b[0;32m--> 674\u001b[0m     \u001b[38;5;28;01mreturn\u001b[39;00m \u001b[38;5;28;43mself\u001b[39;49m\u001b[38;5;241;43m.\u001b[39;49m\u001b[43mread_value\u001b[49m\u001b[43m(\u001b[49m\u001b[43m)\u001b[49m\u001b[38;5;241m.\u001b[39mnumpy()\n\u001b[1;32m    675\u001b[0m   \u001b[38;5;28;01mraise\u001b[39;00m \u001b[38;5;167;01mNotImplementedError\u001b[39;00m(\n\u001b[1;32m    676\u001b[0m       \u001b[38;5;124m\"\u001b[39m\u001b[38;5;124mnumpy() is only available when eager execution is enabled.\u001b[39m\u001b[38;5;124m\"\u001b[39m)\n",
      "File \u001b[0;32m~/.local/lib/python3.8/site-packages/tensorflow/python/ops/resource_variable_ops.py:749\u001b[0m, in \u001b[0;36mBaseResourceVariable.read_value\u001b[0;34m(self)\u001b[0m\n\u001b[1;32m    740\u001b[0m \u001b[38;5;250m\u001b[39m\u001b[38;5;124;03m\"\"\"Constructs an op which reads the value of this variable.\u001b[39;00m\n\u001b[1;32m    741\u001b[0m \n\u001b[1;32m    742\u001b[0m \u001b[38;5;124;03mShould be used when there are multiple reads, or when it is desirable to\u001b[39;00m\n\u001b[0;32m   (...)\u001b[0m\n\u001b[1;32m    746\u001b[0m \u001b[38;5;124;03m the read operation.\u001b[39;00m\n\u001b[1;32m    747\u001b[0m \u001b[38;5;124;03m\"\"\"\u001b[39;00m\n\u001b[1;32m    748\u001b[0m \u001b[38;5;28;01mwith\u001b[39;00m ops\u001b[38;5;241m.\u001b[39mname_scope(\u001b[38;5;124m\"\u001b[39m\u001b[38;5;124mRead\u001b[39m\u001b[38;5;124m\"\u001b[39m):\n\u001b[0;32m--> 749\u001b[0m   value \u001b[38;5;241m=\u001b[39m \u001b[38;5;28;43mself\u001b[39;49m\u001b[38;5;241;43m.\u001b[39;49m\u001b[43m_read_variable_op\u001b[49m\u001b[43m(\u001b[49m\u001b[43m)\u001b[49m\n\u001b[1;32m    750\u001b[0m \u001b[38;5;66;03m# Return an identity so it can get placed on whatever device the context\u001b[39;00m\n\u001b[1;32m    751\u001b[0m \u001b[38;5;66;03m# specifies instead of the device where the variable is.\u001b[39;00m\n\u001b[1;32m    752\u001b[0m \u001b[38;5;28;01mreturn\u001b[39;00m array_ops\u001b[38;5;241m.\u001b[39midentity(value)\n",
      "File \u001b[0;32m~/.local/lib/python3.8/site-packages/tensorflow/python/ops/resource_variable_ops.py:715\u001b[0m, in \u001b[0;36mBaseResourceVariable._read_variable_op\u001b[0;34m(self)\u001b[0m\n\u001b[1;32m    714\u001b[0m \u001b[38;5;28;01mdef\u001b[39;00m \u001b[38;5;21m_read_variable_op\u001b[39m(\u001b[38;5;28mself\u001b[39m):\n\u001b[0;32m--> 715\u001b[0m   \u001b[43mvariable_accessed\u001b[49m\u001b[43m(\u001b[49m\u001b[38;5;28;43mself\u001b[39;49m\u001b[43m)\u001b[49m\n\u001b[1;32m    717\u001b[0m   \u001b[38;5;28;01mdef\u001b[39;00m \u001b[38;5;21mread_and_set_handle\u001b[39m():\n\u001b[1;32m    718\u001b[0m     result \u001b[38;5;241m=\u001b[39m gen_resource_variable_ops\u001b[38;5;241m.\u001b[39mread_variable_op(\n\u001b[1;32m    719\u001b[0m         \u001b[38;5;28mself\u001b[39m\u001b[38;5;241m.\u001b[39mhandle, \u001b[38;5;28mself\u001b[39m\u001b[38;5;241m.\u001b[39m_dtype)\n",
      "File \u001b[0;32m~/.local/lib/python3.8/site-packages/tensorflow/python/ops/resource_variable_ops.py:329\u001b[0m, in \u001b[0;36mvariable_accessed\u001b[0;34m(variable)\u001b[0m\n\u001b[1;32m    327\u001b[0m   ops\u001b[38;5;241m.\u001b[39mget_default_graph()\u001b[38;5;241m.\u001b[39mwatch_variable(variable)\n\u001b[1;32m    328\u001b[0m \u001b[38;5;28;01mif\u001b[39;00m variable\u001b[38;5;241m.\u001b[39mtrainable:\n\u001b[0;32m--> 329\u001b[0m   \u001b[43mtape\u001b[49m\u001b[38;5;241;43m.\u001b[39;49m\u001b[43mvariable_accessed\u001b[49m\u001b[43m(\u001b[49m\u001b[43mvariable\u001b[49m\u001b[43m)\u001b[49m\n",
      "File \u001b[0;32m~/.local/lib/python3.8/site-packages/tensorflow/python/eager/tape.py:118\u001b[0m, in \u001b[0;36mvariable_accessed\u001b[0;34m(variable)\u001b[0m\n\u001b[1;32m    116\u001b[0m \u001b[38;5;28;01mfor\u001b[39;00m var \u001b[38;5;129;01min\u001b[39;00m variables:\n\u001b[1;32m    117\u001b[0m   pywrap_tfe\u001b[38;5;241m.\u001b[39mTFE_Py_TapeVariableAccessed(var)\n\u001b[0;32m--> 118\u001b[0m   \u001b[43mpywrap_tfe\u001b[49m\u001b[38;5;241;43m.\u001b[39;49m\u001b[43mTFE_Py_VariableWatcherVariableAccessed\u001b[49m(var)\n",
      "\u001b[0;31mKeyboardInterrupt\u001b[0m: "
     ]
    }
   ],
   "source": [
    "# train simple model\n",
    "\n",
    "epochs = 60\n",
    "batch_size = 32\n",
    "\n",
    "# dataset specific\n",
    "channels = 6\n",
    "datapoints = 100\n",
    "\n",
    "model = create_simple_model(channels, datapoints)\n",
    "\n",
    "print(\"Training on dataset with \", datapoints, \"datapoints...\")\n",
    "\n",
    "print(\"Loading training data...\")\n",
    "(df, X, y) = get_data(\"train\", datapoints)\n",
    "\n",
    "print(\"Training model...\")\n",
    "model.fit(X, y, \n",
    "    batch_size=batch_size,\n",
    "    epochs=epochs,\n",
    "    validation_split=0.2,\n",
    "    verbose=1\n",
    ")"
   ]
  },
  {
   "cell_type": "code",
   "execution_count": 4,
   "metadata": {},
   "outputs": [
    {
     "name": "stdout",
     "output_type": "stream",
     "text": [
      "Loading test data...\n",
      "Loading training data (type= test datapoints= 100 )...\n",
      "Evaluating model...\n",
      "373/373 [==============================] - 0s 1ms/step - loss: 4.9298 - accuracy: 0.6213\n",
      "Accuracy of model for 100 datapoints:  0.6212590932846069\n"
     ]
    }
   ],
   "source": [
    "# get stats on test data\n",
    "print(\"Loading test data...\")\n",
    "(df, X_test, y_test) = get_data(\"test\", datapoints)\n",
    "\n",
    "print(\"Evaluating model...\")\n",
    "result = model.evaluate(X_test, y_test)\n",
    "print(\"Accuracy of model for \" + str(datapoints) + \" datapoints: \", result[1])"
   ]
  }
 ],
 "metadata": {
  "kernelspec": {
   "display_name": "Python 3",
   "language": "python",
   "name": "python3"
  },
  "language_info": {
   "codemirror_mode": {
    "name": "ipython",
    "version": 3
   },
   "file_extension": ".py",
   "mimetype": "text/x-python",
   "name": "python",
   "nbconvert_exporter": "python",
   "pygments_lexer": "ipython3",
   "version": "3.8.10"
  }
 },
 "nbformat": 4,
 "nbformat_minor": 2
}

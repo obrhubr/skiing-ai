{
 "cells": [
  {
   "cell_type": "code",
   "execution_count": 92,
   "metadata": {},
   "outputs": [],
   "source": [
    "import pandas as pd\n",
    "import seaborn as sns\n",
    "import matplotlib.pyplot as plt\n",
    "import numpy as np"
   ]
  },
  {
   "cell_type": "code",
   "execution_count": 93,
   "metadata": {},
   "outputs": [],
   "source": [
    "df = pd.read_csv(\"./data/train/train.csv\")"
   ]
  },
  {
   "cell_type": "code",
   "execution_count": 94,
   "metadata": {},
   "outputs": [
    {
     "name": "stdout",
     "output_type": "stream",
     "text": [
      "(4171, 600)\n",
      "(4171,)\n"
     ]
    }
   ],
   "source": [
    "X = df.iloc[:, 0:-3]\n",
    "y = df.iloc[:, -1]\n",
    "print(X.shape)\n",
    "print(y.shape)"
   ]
  },
  {
   "cell_type": "code",
   "execution_count": 95,
   "metadata": {},
   "outputs": [],
   "source": [
    "import tensorflow as tf"
   ]
  },
  {
   "cell_type": "code",
   "execution_count": 96,
   "metadata": {},
   "outputs": [
    {
     "name": "stdout",
     "output_type": "stream",
     "text": [
      "Model: \"sequential_8\"\n",
      "_________________________________________________________________\n",
      " Layer (type)                Output Shape              Param #   \n",
      "=================================================================\n",
      " dense_35 (Dense)            (None, 256)               153856    \n",
      "                                                                 \n",
      " dense_36 (Dense)            (None, 128)               32896     \n",
      "                                                                 \n",
      " dense_37 (Dense)            (None, 64)                8256      \n",
      "                                                                 \n",
      " dense_38 (Dense)            (None, 1)                 65        \n",
      "                                                                 \n",
      "=================================================================\n",
      "Total params: 195,073\n",
      "Trainable params: 195,073\n",
      "Non-trainable params: 0\n",
      "_________________________________________________________________\n"
     ]
    }
   ],
   "source": [
    "num_classes = 1\n",
    " \n",
    "model = tf.keras.models.Sequential([\n",
    "    tf.keras.layers.Dense(256, activation='relu', input_dim=X.shape[1]),\n",
    "    tf.keras.layers.Dense(128, activation='relu'),\n",
    "    tf.keras.layers.Dense(64, activation='relu'),\n",
    "    tf.keras.layers.Dense(num_classes, activation='sigmoid')\n",
    "])\n",
    "\n",
    "# Print the model summary\n",
    "model.summary()"
   ]
  },
  {
   "cell_type": "code",
   "execution_count": 97,
   "metadata": {},
   "outputs": [],
   "source": [
    "model.compile(loss=tf.keras.losses.BinaryCrossentropy(),\n",
    "\toptimizer=tf.keras.optimizers.Adam(), # use Adam instead of SGD\n",
    "\tmetrics=['accuracy']\n",
    ")"
   ]
  },
  {
   "cell_type": "code",
   "execution_count": 98,
   "metadata": {},
   "outputs": [
    {
     "name": "stdout",
     "output_type": "stream",
     "text": [
      "Epoch 1/100\n"
     ]
    },
    {
     "name": "stdout",
     "output_type": "stream",
     "text": [
      "131/131 [==============================] - 0s 2ms/step - loss: 0.3773 - accuracy: 0.9043\n",
      "Epoch 2/100\n",
      "131/131 [==============================] - 0s 2ms/step - loss: 0.1175 - accuracy: 0.9616\n",
      "Epoch 3/100\n",
      "131/131 [==============================] - 0s 2ms/step - loss: 0.0633 - accuracy: 0.9775\n",
      "Epoch 4/100\n",
      "131/131 [==============================] - 0s 2ms/step - loss: 0.0316 - accuracy: 0.9885\n",
      "Epoch 5/100\n",
      "131/131 [==============================] - 0s 2ms/step - loss: 0.0507 - accuracy: 0.9849\n",
      "Epoch 6/100\n",
      "131/131 [==============================] - 0s 2ms/step - loss: 0.0390 - accuracy: 0.9866\n",
      "Epoch 7/100\n",
      "131/131 [==============================] - 0s 2ms/step - loss: 0.0213 - accuracy: 0.9930\n",
      "Epoch 8/100\n",
      "131/131 [==============================] - 0s 2ms/step - loss: 0.0312 - accuracy: 0.9916\n",
      "Epoch 9/100\n",
      "131/131 [==============================] - 0s 2ms/step - loss: 0.0082 - accuracy: 0.9986\n",
      "Epoch 10/100\n",
      "131/131 [==============================] - 0s 2ms/step - loss: 0.0228 - accuracy: 0.9940\n",
      "Epoch 11/100\n",
      "131/131 [==============================] - 0s 2ms/step - loss: 0.0076 - accuracy: 0.9976\n",
      "Epoch 12/100\n",
      "131/131 [==============================] - 0s 2ms/step - loss: 0.0028 - accuracy: 0.9998\n",
      "Epoch 13/100\n",
      "131/131 [==============================] - 0s 2ms/step - loss: 7.0065e-04 - accuracy: 1.0000\n",
      "Epoch 14/100\n",
      "131/131 [==============================] - 0s 2ms/step - loss: 4.4042e-04 - accuracy: 1.0000\n",
      "Epoch 15/100\n",
      "131/131 [==============================] - 0s 2ms/step - loss: 3.1661e-04 - accuracy: 1.0000\n",
      "Epoch 16/100\n",
      "131/131 [==============================] - 0s 2ms/step - loss: 2.4014e-04 - accuracy: 1.0000\n",
      "Epoch 17/100\n",
      "131/131 [==============================] - 0s 2ms/step - loss: 1.8917e-04 - accuracy: 1.0000\n",
      "Epoch 18/100\n",
      "131/131 [==============================] - 0s 2ms/step - loss: 1.5318e-04 - accuracy: 1.0000\n",
      "Epoch 19/100\n",
      "131/131 [==============================] - 0s 2ms/step - loss: 1.2620e-04 - accuracy: 1.0000\n",
      "Epoch 20/100\n",
      "131/131 [==============================] - 0s 2ms/step - loss: 1.0542e-04 - accuracy: 1.0000\n",
      "Epoch 21/100\n",
      "131/131 [==============================] - 0s 2ms/step - loss: 8.9177e-05 - accuracy: 1.0000\n",
      "Epoch 22/100\n",
      "131/131 [==============================] - 0s 2ms/step - loss: 7.6259e-05 - accuracy: 1.0000\n",
      "Epoch 23/100\n",
      "131/131 [==============================] - 0s 2ms/step - loss: 6.5823e-05 - accuracy: 1.0000\n",
      "Epoch 24/100\n",
      "131/131 [==============================] - 0s 2ms/step - loss: 5.7173e-05 - accuracy: 1.0000\n",
      "Epoch 25/100\n",
      "131/131 [==============================] - 0s 2ms/step - loss: 4.9901e-05 - accuracy: 1.0000\n",
      "Epoch 26/100\n",
      "131/131 [==============================] - 0s 2ms/step - loss: 4.3804e-05 - accuracy: 1.0000\n",
      "Epoch 27/100\n",
      "131/131 [==============================] - 0s 2ms/step - loss: 3.8647e-05 - accuracy: 1.0000\n",
      "Epoch 28/100\n",
      "131/131 [==============================] - 0s 2ms/step - loss: 3.4233e-05 - accuracy: 1.0000\n",
      "Epoch 29/100\n",
      "131/131 [==============================] - 0s 2ms/step - loss: 3.0426e-05 - accuracy: 1.0000\n",
      "Epoch 30/100\n",
      "131/131 [==============================] - 0s 2ms/step - loss: 2.7098e-05 - accuracy: 1.0000\n",
      "Epoch 31/100\n",
      "131/131 [==============================] - 0s 2ms/step - loss: 2.4242e-05 - accuracy: 1.0000\n",
      "Epoch 32/100\n",
      "131/131 [==============================] - 0s 2ms/step - loss: 2.1741e-05 - accuracy: 1.0000\n",
      "Epoch 33/100\n",
      "131/131 [==============================] - 0s 2ms/step - loss: 1.9539e-05 - accuracy: 1.0000\n",
      "Epoch 34/100\n",
      "131/131 [==============================] - 0s 2ms/step - loss: 1.7581e-05 - accuracy: 1.0000\n",
      "Epoch 35/100\n",
      "131/131 [==============================] - 0s 2ms/step - loss: 1.5873e-05 - accuracy: 1.0000\n",
      "Epoch 36/100\n",
      "131/131 [==============================] - 0s 2ms/step - loss: 1.4353e-05 - accuracy: 1.0000\n",
      "Epoch 37/100\n",
      "131/131 [==============================] - 0s 2ms/step - loss: 1.2998e-05 - accuracy: 1.0000\n",
      "Epoch 38/100\n",
      "131/131 [==============================] - 0s 2ms/step - loss: 1.1779e-05 - accuracy: 1.0000\n",
      "Epoch 39/100\n",
      "131/131 [==============================] - 0s 2ms/step - loss: 1.0701e-05 - accuracy: 1.0000\n",
      "Epoch 40/100\n",
      "131/131 [==============================] - 0s 2ms/step - loss: 9.7176e-06 - accuracy: 1.0000\n",
      "Epoch 41/100\n",
      "131/131 [==============================] - 0s 2ms/step - loss: 8.8546e-06 - accuracy: 1.0000\n",
      "Epoch 42/100\n",
      "131/131 [==============================] - 0s 2ms/step - loss: 8.0732e-06 - accuracy: 1.0000\n",
      "Epoch 43/100\n",
      "131/131 [==============================] - 0s 2ms/step - loss: 7.3543e-06 - accuracy: 1.0000\n",
      "Epoch 44/100\n",
      "131/131 [==============================] - 0s 2ms/step - loss: 6.7160e-06 - accuracy: 1.0000\n",
      "Epoch 45/100\n",
      "131/131 [==============================] - 0s 2ms/step - loss: 6.1345e-06 - accuracy: 1.0000\n",
      "Epoch 46/100\n",
      "131/131 [==============================] - 0s 2ms/step - loss: 5.6073e-06 - accuracy: 1.0000\n",
      "Epoch 47/100\n",
      "131/131 [==============================] - 0s 2ms/step - loss: 5.1375e-06 - accuracy: 1.0000\n",
      "Epoch 48/100\n",
      "131/131 [==============================] - 0s 2ms/step - loss: 4.6927e-06 - accuracy: 1.0000\n",
      "Epoch 49/100\n",
      "131/131 [==============================] - 0s 2ms/step - loss: 4.2992e-06 - accuracy: 1.0000\n",
      "Epoch 50/100\n",
      "131/131 [==============================] - 0s 2ms/step - loss: 3.9403e-06 - accuracy: 1.0000\n",
      "Epoch 51/100\n",
      "131/131 [==============================] - 0s 2ms/step - loss: 3.6135e-06 - accuracy: 1.0000\n",
      "Epoch 52/100\n",
      "131/131 [==============================] - 0s 2ms/step - loss: 3.3176e-06 - accuracy: 1.0000\n",
      "Epoch 53/100\n",
      "131/131 [==============================] - 0s 2ms/step - loss: 3.0437e-06 - accuracy: 1.0000\n",
      "Epoch 54/100\n",
      "131/131 [==============================] - 0s 2ms/step - loss: 2.7976e-06 - accuracy: 1.0000\n",
      "Epoch 55/100\n",
      "131/131 [==============================] - 0s 2ms/step - loss: 2.5657e-06 - accuracy: 1.0000\n",
      "Epoch 56/100\n",
      "131/131 [==============================] - 0s 2ms/step - loss: 2.3602e-06 - accuracy: 1.0000\n",
      "Epoch 57/100\n",
      "131/131 [==============================] - 0s 2ms/step - loss: 2.1729e-06 - accuracy: 1.0000\n",
      "Epoch 58/100\n",
      "131/131 [==============================] - 0s 2ms/step - loss: 1.9977e-06 - accuracy: 1.0000\n",
      "Epoch 59/100\n",
      "131/131 [==============================] - 0s 2ms/step - loss: 1.8389e-06 - accuracy: 1.0000\n",
      "Epoch 60/100\n",
      "131/131 [==============================] - 0s 2ms/step - loss: 1.6927e-06 - accuracy: 1.0000\n",
      "Epoch 61/100\n",
      "131/131 [==============================] - 0s 2ms/step - loss: 1.5588e-06 - accuracy: 1.0000\n",
      "Epoch 62/100\n",
      "131/131 [==============================] - 0s 2ms/step - loss: 1.4351e-06 - accuracy: 1.0000\n",
      "Epoch 63/100\n",
      "131/131 [==============================] - 0s 2ms/step - loss: 1.3223e-06 - accuracy: 1.0000\n",
      "Epoch 64/100\n",
      "131/131 [==============================] - 0s 2ms/step - loss: 1.2183e-06 - accuracy: 1.0000\n",
      "Epoch 65/100\n",
      "131/131 [==============================] - 0s 2ms/step - loss: 1.1231e-06 - accuracy: 1.0000\n",
      "Epoch 66/100\n",
      "131/131 [==============================] - 0s 2ms/step - loss: 1.0363e-06 - accuracy: 1.0000\n",
      "Epoch 67/100\n",
      "131/131 [==============================] - 0s 2ms/step - loss: 9.5457e-07 - accuracy: 1.0000\n",
      "Epoch 68/100\n",
      "131/131 [==============================] - 0s 2ms/step - loss: 8.8117e-07 - accuracy: 1.0000\n",
      "Epoch 69/100\n",
      "131/131 [==============================] - 0s 2ms/step - loss: 8.1345e-07 - accuracy: 1.0000\n",
      "Epoch 70/100\n",
      "131/131 [==============================] - 0s 2ms/step - loss: 7.5097e-07 - accuracy: 1.0000\n",
      "Epoch 71/100\n",
      "131/131 [==============================] - 0s 2ms/step - loss: 6.9307e-07 - accuracy: 1.0000\n",
      "Epoch 72/100\n",
      "131/131 [==============================] - 0s 2ms/step - loss: 6.3937e-07 - accuracy: 1.0000\n",
      "Epoch 73/100\n",
      "131/131 [==============================] - 0s 2ms/step - loss: 5.8979e-07 - accuracy: 1.0000\n",
      "Epoch 74/100\n",
      "131/131 [==============================] - 0s 2ms/step - loss: 5.4502e-07 - accuracy: 1.0000\n",
      "Epoch 75/100\n",
      "131/131 [==============================] - 0s 2ms/step - loss: 5.0327e-07 - accuracy: 1.0000\n",
      "Epoch 76/100\n",
      "131/131 [==============================] - 0s 2ms/step - loss: 4.6359e-07 - accuracy: 1.0000\n",
      "Epoch 77/100\n",
      "131/131 [==============================] - 0s 2ms/step - loss: 4.2810e-07 - accuracy: 1.0000\n",
      "Epoch 78/100\n",
      "131/131 [==============================] - 0s 2ms/step - loss: 3.9590e-07 - accuracy: 1.0000\n",
      "Epoch 79/100\n",
      "131/131 [==============================] - 0s 2ms/step - loss: 3.6584e-07 - accuracy: 1.0000\n",
      "Epoch 80/100\n",
      "131/131 [==============================] - 0s 2ms/step - loss: 3.3809e-07 - accuracy: 1.0000\n",
      "Epoch 81/100\n",
      "131/131 [==============================] - 0s 2ms/step - loss: 3.1276e-07 - accuracy: 1.0000\n",
      "Epoch 82/100\n",
      "131/131 [==============================] - 0s 2ms/step - loss: 2.8960e-07 - accuracy: 1.0000\n",
      "Epoch 83/100\n",
      "131/131 [==============================] - 0s 2ms/step - loss: 2.6735e-07 - accuracy: 1.0000\n",
      "Epoch 84/100\n",
      "131/131 [==============================] - 0s 2ms/step - loss: 2.4749e-07 - accuracy: 1.0000\n",
      "Epoch 85/100\n",
      "131/131 [==============================] - 0s 2ms/step - loss: 2.2886e-07 - accuracy: 1.0000\n",
      "Epoch 86/100\n",
      "131/131 [==============================] - 0s 2ms/step - loss: 2.1166e-07 - accuracy: 1.0000\n",
      "Epoch 87/100\n",
      "131/131 [==============================] - 0s 2ms/step - loss: 1.9594e-07 - accuracy: 1.0000\n",
      "Epoch 88/100\n",
      "131/131 [==============================] - 0s 2ms/step - loss: 1.8155e-07 - accuracy: 1.0000\n",
      "Epoch 89/100\n",
      "131/131 [==============================] - 0s 2ms/step - loss: 1.6800e-07 - accuracy: 1.0000\n",
      "Epoch 90/100\n",
      "131/131 [==============================] - 0s 2ms/step - loss: 1.5543e-07 - accuracy: 1.0000\n",
      "Epoch 91/100\n",
      "131/131 [==============================] - 0s 2ms/step - loss: 1.4400e-07 - accuracy: 1.0000\n",
      "Epoch 92/100\n",
      "131/131 [==============================] - 0s 2ms/step - loss: 1.3329e-07 - accuracy: 1.0000\n",
      "Epoch 93/100\n",
      "131/131 [==============================] - 0s 2ms/step - loss: 1.2359e-07 - accuracy: 1.0000\n",
      "Epoch 94/100\n",
      "131/131 [==============================] - 0s 2ms/step - loss: 1.1440e-07 - accuracy: 1.0000\n",
      "Epoch 95/100\n",
      "131/131 [==============================] - 0s 2ms/step - loss: 1.0587e-07 - accuracy: 1.0000\n",
      "Epoch 96/100\n",
      "131/131 [==============================] - 0s 2ms/step - loss: 9.7864e-08 - accuracy: 1.0000\n",
      "Epoch 97/100\n",
      "131/131 [==============================] - 0s 2ms/step - loss: 9.0816e-08 - accuracy: 1.0000\n",
      "Epoch 98/100\n",
      "131/131 [==============================] - 0s 2ms/step - loss: 8.4277e-08 - accuracy: 1.0000\n",
      "Epoch 99/100\n",
      "131/131 [==============================] - 0s 2ms/step - loss: 7.8108e-08 - accuracy: 1.0000\n",
      "Epoch 100/100\n",
      "131/131 [==============================] - 0s 2ms/step - loss: 7.2563e-08 - accuracy: 1.0000\n"
     ]
    },
    {
     "data": {
      "text/plain": [
       "<keras.callbacks.History at 0x7fed288c2c70>"
      ]
     },
     "execution_count": 98,
     "metadata": {},
     "output_type": "execute_result"
    }
   ],
   "source": [
    "model.fit(X, y, epochs=100)"
   ]
  },
  {
   "cell_type": "code",
   "execution_count": 99,
   "metadata": {},
   "outputs": [
    {
     "name": "stdout",
     "output_type": "stream",
     "text": [
      "(1193, 600) (1193,)\n"
     ]
    }
   ],
   "source": [
    "# get stats on test data\n",
    "df_test = pd.read_csv(\"./data/test/test.csv\")\n",
    "X_test = df_test.iloc[:, 0:-3]\n",
    "y_test = df_test.iloc[:, -1]\n",
    "print(X_test.shape, y_test.shape)"
   ]
  },
  {
   "cell_type": "code",
   "execution_count": 100,
   "metadata": {},
   "outputs": [
    {
     "name": "stdout",
     "output_type": "stream",
     "text": [
      "38/38 [==============================] - 0s 1ms/step - loss: 11.3089 - accuracy: 0.5457\n",
      "Accuracy of:  0.5456831455230713\n"
     ]
    }
   ],
   "source": [
    "result = model.evaluate(X_test, y_test)\n",
    "print(\"Accuracy of: \", result[1])"
   ]
  },
  {
   "cell_type": "code",
   "execution_count": 101,
   "metadata": {},
   "outputs": [],
   "source": [
    "model.save(\"./models/simple.keras\")"
   ]
  }
 ],
 "metadata": {
  "kernelspec": {
   "display_name": "Python 3",
   "language": "python",
   "name": "python3"
  },
  "language_info": {
   "codemirror_mode": {
    "name": "ipython",
    "version": 3
   },
   "file_extension": ".py",
   "mimetype": "text/x-python",
   "name": "python",
   "nbconvert_exporter": "python",
   "pygments_lexer": "ipython3",
   "version": "3.8.10"
  }
 },
 "nbformat": 4,
 "nbformat_minor": 2
}

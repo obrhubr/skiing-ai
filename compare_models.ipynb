{
 "cells": [
  {
   "cell_type": "code",
   "execution_count": 3,
   "metadata": {},
   "outputs": [
    {
     "name": "stderr",
     "output_type": "stream",
     "text": [
      "2024-01-13 14:34:54.883949: W tensorflow/stream_executor/platform/default/dso_loader.cc:64] Could not load dynamic library 'libcudart.so.11.0'; dlerror: libcudart.so.11.0: cannot open shared object file: No such file or directory\n",
      "2024-01-13 14:34:54.883989: I tensorflow/stream_executor/cuda/cudart_stub.cc:29] Ignore above cudart dlerror if you do not have a GPU set up on your machine.\n"
     ]
    }
   ],
   "source": [
    "import pandas as pd\n",
    "import seaborn as sns\n",
    "import matplotlib.pyplot as plt\n",
    "import numpy as np\n",
    "import tensorflow as tf"
   ]
  },
  {
   "cell_type": "code",
   "execution_count": 2,
   "metadata": {},
   "outputs": [],
   "source": [
    "def reshape_for_conv(arr, channels, length):\n",
    "\t# Reshape the input data to (1, 100, 6)\n",
    "\tnew_X = np.zeros([1, length, channels])\n",
    "\n",
    "\tfor x in np.array(arr):\n",
    "\t\tt = np.array(np.split(np.array(x), channels)) # (6, 100)\n",
    "\t\tt = t.transpose() # (100, 6)\n",
    "\t\tt = t.reshape((1, length, channels))\n",
    "\t\tnew_X = np.append(new_X, t, axis=0)\n",
    "\n",
    "\tnew_X = new_X[1:]\n",
    "\treturn new_X"
   ]
  },
  {
   "cell_type": "code",
   "execution_count": 4,
   "metadata": {},
   "outputs": [],
   "source": [
    "test_results = pd.DataFrame({\"type\": [], \"datapoints\": [], \"accuracy\": []})"
   ]
  },
  {
   "cell_type": "code",
   "execution_count": 8,
   "metadata": {},
   "outputs": [
    {
     "name": "stdout",
     "output_type": "stream",
     "text": [
      "Evaluating model...\n",
      "374/374 [==============================] - 0s 909us/step - loss: 6.3409 - accuracy: 0.5975\n"
     ]
    },
    {
     "name": "stderr",
     "output_type": "stream",
     "text": [
      "/tmp/ipykernel_28423/3041999558.py:17: FutureWarning: The frame.append method is deprecated and will be removed from pandas in a future version. Use pandas.concat instead.\n",
      "  test_results = test_results.append([{\"datapoints\": data, \"accuracy\": result[1]}], ignore_index=True)\n"
     ]
    },
    {
     "name": "stdout",
     "output_type": "stream",
     "text": [
      "Evaluating model...\n",
      "373/373 [==============================] - 0s 964us/step - loss: 6.1285 - accuracy: 0.6185\n"
     ]
    },
    {
     "name": "stderr",
     "output_type": "stream",
     "text": [
      "/tmp/ipykernel_28423/3041999558.py:17: FutureWarning: The frame.append method is deprecated and will be removed from pandas in a future version. Use pandas.concat instead.\n",
      "  test_results = test_results.append([{\"datapoints\": data, \"accuracy\": result[1]}], ignore_index=True)\n"
     ]
    },
    {
     "name": "stdout",
     "output_type": "stream",
     "text": [
      "Evaluating model...\n",
      "372/372 [==============================] - 1s 1ms/step - loss: 10.9708 - accuracy: 0.6021\n"
     ]
    },
    {
     "name": "stderr",
     "output_type": "stream",
     "text": [
      "/tmp/ipykernel_28423/3041999558.py:17: FutureWarning: The frame.append method is deprecated and will be removed from pandas in a future version. Use pandas.concat instead.\n",
      "  test_results = test_results.append([{\"datapoints\": data, \"accuracy\": result[1]}], ignore_index=True)\n"
     ]
    },
    {
     "name": "stdout",
     "output_type": "stream",
     "text": [
      "Evaluating model...\n",
      "370/370 [==============================] - 1s 1ms/step - loss: 9.9165 - accuracy: 0.6061\n"
     ]
    },
    {
     "name": "stderr",
     "output_type": "stream",
     "text": [
      "/tmp/ipykernel_28423/3041999558.py:17: FutureWarning: The frame.append method is deprecated and will be removed from pandas in a future version. Use pandas.concat instead.\n",
      "  test_results = test_results.append([{\"datapoints\": data, \"accuracy\": result[1]}], ignore_index=True)\n"
     ]
    },
    {
     "name": "stdout",
     "output_type": "stream",
     "text": [
      "Evaluating model...\n",
      "93/93 [==============================] - 0s 2ms/step - loss: 9.5914 - accuracy: 0.5983\n"
     ]
    },
    {
     "name": "stderr",
     "output_type": "stream",
     "text": [
      "/tmp/ipykernel_28423/3041999558.py:17: FutureWarning: The frame.append method is deprecated and will be removed from pandas in a future version. Use pandas.concat instead.\n",
      "  test_results = test_results.append([{\"datapoints\": data, \"accuracy\": result[1]}], ignore_index=True)\n"
     ]
    },
    {
     "name": "stdout",
     "output_type": "stream",
     "text": [
      "Evaluating model...\n",
      "92/92 [==============================] - 0s 2ms/step - loss: 9.2698 - accuracy: 0.5995\n"
     ]
    },
    {
     "name": "stderr",
     "output_type": "stream",
     "text": [
      "/tmp/ipykernel_28423/3041999558.py:17: FutureWarning: The frame.append method is deprecated and will be removed from pandas in a future version. Use pandas.concat instead.\n",
      "  test_results = test_results.append([{\"datapoints\": data, \"accuracy\": result[1]}], ignore_index=True)\n"
     ]
    }
   ],
   "source": [
    "# get simple model data\n",
    "datapoints = [50, 100, 200, 300, 400, 500]\n",
    "channels = 6\n",
    "\n",
    "for data in datapoints:\n",
    "\tlength = data\n",
    "\n",
    "\tmodel = tf.keras.models.load_model('./models/simple_' + str(data) + '.keras')\n",
    "\n",
    "\tdf_test = pd.read_csv(\"./data/test/test_\" + str(data) + \".csv\")\n",
    "\tX_test = df_test.iloc[:, 0:-3]\n",
    "\ty_test = df_test.iloc[:, -1]\n",
    "\n",
    "\tprint(\"Evaluating model...\")\n",
    "\tresult = model.evaluate(X_test, y_test)\n",
    "\n",
    "\ttest_results = test_results.append([{\"type\": \"simple\",\"datapoints\": data, \"accuracy\": result[1]}], ignore_index=True)"
   ]
  },
  {
   "cell_type": "code",
   "execution_count": 13,
   "metadata": {},
   "outputs": [
    {
     "name": "stdout",
     "output_type": "stream",
     "text": [
      "Evaluating model...\n",
      "374/374 [==============================] - 1s 3ms/step - loss: 3.5786 - accuracy: 0.5663\n"
     ]
    },
    {
     "name": "stderr",
     "output_type": "stream",
     "text": [
      "/tmp/ipykernel_28423/3902280417.py:19: FutureWarning: The frame.append method is deprecated and will be removed from pandas in a future version. Use pandas.concat instead.\n",
      "  test_results = test_results.append([{\"type\": \"conv\",\"datapoints\": data, \"accuracy\": result[1]}], ignore_index=True)\n"
     ]
    },
    {
     "name": "stdout",
     "output_type": "stream",
     "text": [
      "Evaluating model...\n",
      "373/373 [==============================] - 2s 4ms/step - loss: 3.5223 - accuracy: 0.6056\n"
     ]
    },
    {
     "name": "stderr",
     "output_type": "stream",
     "text": [
      "/tmp/ipykernel_28423/3902280417.py:19: FutureWarning: The frame.append method is deprecated and will be removed from pandas in a future version. Use pandas.concat instead.\n",
      "  test_results = test_results.append([{\"type\": \"conv\",\"datapoints\": data, \"accuracy\": result[1]}], ignore_index=True)\n"
     ]
    },
    {
     "name": "stdout",
     "output_type": "stream",
     "text": [
      "Evaluating model...\n",
      "372/372 [==============================] - 2s 6ms/step - loss: 4.0270 - accuracy: 0.6310\n"
     ]
    },
    {
     "name": "stderr",
     "output_type": "stream",
     "text": [
      "/tmp/ipykernel_28423/3902280417.py:19: FutureWarning: The frame.append method is deprecated and will be removed from pandas in a future version. Use pandas.concat instead.\n",
      "  test_results = test_results.append([{\"type\": \"conv\",\"datapoints\": data, \"accuracy\": result[1]}], ignore_index=True)\n"
     ]
    },
    {
     "name": "stdout",
     "output_type": "stream",
     "text": [
      "Evaluating model...\n",
      "370/370 [==============================] - 3s 8ms/step - loss: 3.7832 - accuracy: 0.6465\n"
     ]
    },
    {
     "name": "stderr",
     "output_type": "stream",
     "text": [
      "/tmp/ipykernel_28423/3902280417.py:19: FutureWarning: The frame.append method is deprecated and will be removed from pandas in a future version. Use pandas.concat instead.\n",
      "  test_results = test_results.append([{\"type\": \"conv\",\"datapoints\": data, \"accuracy\": result[1]}], ignore_index=True)\n"
     ]
    },
    {
     "name": "stdout",
     "output_type": "stream",
     "text": [
      "Evaluating model...\n",
      "93/93 [==============================] - 1s 9ms/step - loss: 2.6692 - accuracy: 0.6632\n"
     ]
    },
    {
     "name": "stderr",
     "output_type": "stream",
     "text": [
      "/tmp/ipykernel_28423/3902280417.py:19: FutureWarning: The frame.append method is deprecated and will be removed from pandas in a future version. Use pandas.concat instead.\n",
      "  test_results = test_results.append([{\"type\": \"conv\",\"datapoints\": data, \"accuracy\": result[1]}], ignore_index=True)\n"
     ]
    },
    {
     "name": "stdout",
     "output_type": "stream",
     "text": [
      "Evaluating model...\n",
      "92/92 [==============================] - 1s 12ms/step - loss: 2.7504 - accuracy: 0.6441\n"
     ]
    },
    {
     "name": "stderr",
     "output_type": "stream",
     "text": [
      "/tmp/ipykernel_28423/3902280417.py:19: FutureWarning: The frame.append method is deprecated and will be removed from pandas in a future version. Use pandas.concat instead.\n",
      "  test_results = test_results.append([{\"type\": \"conv\",\"datapoints\": data, \"accuracy\": result[1]}], ignore_index=True)\n"
     ]
    }
   ],
   "source": [
    "# get conv model data\n",
    "datapoints = [50, 100, 200, 300, 400, 500]\n",
    "channels = 6\n",
    "\n",
    "for data in datapoints:\n",
    "\tlength = data\n",
    "\n",
    "\tmodel = tf.keras.models.load_model('./models/conv_' + str(data) + '.keras')\n",
    "\n",
    "\tdf_test = pd.read_csv(\"./data/test/test_\" + str(data) + \".csv\")\n",
    "\tX_test = df_test.iloc[:, 0:-3]\n",
    "\ty_test = df_test.iloc[:, -1]\n",
    "\n",
    "\tX_test = reshape_for_conv(X_test, channels, length)\n",
    "\n",
    "\tprint(\"Evaluating model...\")\n",
    "\tresult = model.evaluate(X_test, y_test)\n",
    "\n",
    "\ttest_results = test_results.append([{\"type\": \"conv\",\"datapoints\": data, \"accuracy\": result[1]}], ignore_index=True)"
   ]
  },
  {
   "cell_type": "code",
   "execution_count": 14,
   "metadata": {},
   "outputs": [
    {
     "data": {
      "text/html": [
       "<div>\n",
       "<style scoped>\n",
       "    .dataframe tbody tr th:only-of-type {\n",
       "        vertical-align: middle;\n",
       "    }\n",
       "\n",
       "    .dataframe tbody tr th {\n",
       "        vertical-align: top;\n",
       "    }\n",
       "\n",
       "    .dataframe thead th {\n",
       "        text-align: right;\n",
       "    }\n",
       "</style>\n",
       "<table border=\"1\" class=\"dataframe\">\n",
       "  <thead>\n",
       "    <tr style=\"text-align: right;\">\n",
       "      <th></th>\n",
       "      <th>datapoints</th>\n",
       "      <th>accuracy</th>\n",
       "      <th>type</th>\n",
       "    </tr>\n",
       "  </thead>\n",
       "  <tbody>\n",
       "    <tr>\n",
       "      <th>0</th>\n",
       "      <td>50.0</td>\n",
       "      <td>0.597457</td>\n",
       "      <td>simple</td>\n",
       "    </tr>\n",
       "    <tr>\n",
       "      <th>1</th>\n",
       "      <td>100.0</td>\n",
       "      <td>0.618493</td>\n",
       "      <td>simple</td>\n",
       "    </tr>\n",
       "    <tr>\n",
       "      <th>2</th>\n",
       "      <td>200.0</td>\n",
       "      <td>0.602071</td>\n",
       "      <td>simple</td>\n",
       "    </tr>\n",
       "    <tr>\n",
       "      <th>3</th>\n",
       "      <td>300.0</td>\n",
       "      <td>0.606137</td>\n",
       "      <td>simple</td>\n",
       "    </tr>\n",
       "    <tr>\n",
       "      <th>4</th>\n",
       "      <td>400.0</td>\n",
       "      <td>0.598302</td>\n",
       "      <td>simple</td>\n",
       "    </tr>\n",
       "    <tr>\n",
       "      <th>5</th>\n",
       "      <td>500.0</td>\n",
       "      <td>0.599454</td>\n",
       "      <td>simple</td>\n",
       "    </tr>\n",
       "    <tr>\n",
       "      <th>6</th>\n",
       "      <td>50.0</td>\n",
       "      <td>0.566254</td>\n",
       "      <td>conv</td>\n",
       "    </tr>\n",
       "    <tr>\n",
       "      <th>7</th>\n",
       "      <td>100.0</td>\n",
       "      <td>0.605583</td>\n",
       "      <td>conv</td>\n",
       "    </tr>\n",
       "    <tr>\n",
       "      <th>8</th>\n",
       "      <td>200.0</td>\n",
       "      <td>0.631030</td>\n",
       "      <td>conv</td>\n",
       "    </tr>\n",
       "    <tr>\n",
       "      <th>9</th>\n",
       "      <td>300.0</td>\n",
       "      <td>0.646547</td>\n",
       "      <td>conv</td>\n",
       "    </tr>\n",
       "    <tr>\n",
       "      <th>10</th>\n",
       "      <td>400.0</td>\n",
       "      <td>0.663158</td>\n",
       "      <td>conv</td>\n",
       "    </tr>\n",
       "    <tr>\n",
       "      <th>11</th>\n",
       "      <td>500.0</td>\n",
       "      <td>0.644149</td>\n",
       "      <td>conv</td>\n",
       "    </tr>\n",
       "  </tbody>\n",
       "</table>\n",
       "</div>"
      ],
      "text/plain": [
       "    datapoints  accuracy    type\n",
       "0         50.0  0.597457  simple\n",
       "1        100.0  0.618493  simple\n",
       "2        200.0  0.602071  simple\n",
       "3        300.0  0.606137  simple\n",
       "4        400.0  0.598302  simple\n",
       "5        500.0  0.599454  simple\n",
       "6         50.0  0.566254    conv\n",
       "7        100.0  0.605583    conv\n",
       "8        200.0  0.631030    conv\n",
       "9        300.0  0.646547    conv\n",
       "10       400.0  0.663158    conv\n",
       "11       500.0  0.644149    conv"
      ]
     },
     "execution_count": 14,
     "metadata": {},
     "output_type": "execute_result"
    }
   ],
   "source": [
    "test_results"
   ]
  },
  {
   "cell_type": "code",
   "execution_count": null,
   "metadata": {},
   "outputs": [],
   "source": []
  }
 ],
 "metadata": {
  "kernelspec": {
   "display_name": "Python 3",
   "language": "python",
   "name": "python3"
  },
  "language_info": {
   "codemirror_mode": {
    "name": "ipython",
    "version": 3
   },
   "file_extension": ".py",
   "mimetype": "text/x-python",
   "name": "python",
   "nbconvert_exporter": "python",
   "pygments_lexer": "ipython3",
   "version": "3.8.10"
  }
 },
 "nbformat": 4,
 "nbformat_minor": 2
}

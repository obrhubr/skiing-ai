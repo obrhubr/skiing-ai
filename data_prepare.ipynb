{
 "cells": [
  {
   "cell_type": "code",
   "execution_count": 2,
   "metadata": {},
   "outputs": [],
   "source": [
    "import pandas as pd\n",
    "import seaborn as sns\n",
    "import matplotlib.pyplot as plt\n",
    "import numpy as np"
   ]
  },
  {
   "cell_type": "code",
   "execution_count": 2,
   "metadata": {},
   "outputs": [],
   "source": [
    "# take 100 sequential data points with the same label and transform into (100, 2, 3)\n",
    "# 100 rows, 2 columns (gyro, accel), 3 dims (x, y, z)\n",
    "def generate_dataset(datapoints, n_steps, prefix, df):\n",
    "\ttrain_df = pd.DataFrame()\n",
    "\n",
    "\tfor i in range(df.index.start, df.index.stop, n_steps):\n",
    "\t\tif len(set(list(df.loc[i:i+datapoints-1][\"label\"]))) != 1:\n",
    "\t\t\tcontinue\n",
    "\n",
    "\t\tgyro_x = list(df.loc[i:i+datapoints-1][\"x_gyro\"])\n",
    "\t\tgyro_y = list(df.loc[i:i+datapoints-1][\"y_gyro\"])\n",
    "\t\tgyro_z = list(df.loc[i:i+datapoints-1][\"z_gyro\"])\n",
    "\n",
    "\t\tacce_x = list(df.loc[i:i+datapoints-1][\"x\"])\n",
    "\t\tacce_y = list(df.loc[i:i+datapoints-1][\"y\"])\n",
    "\t\tacce_z = list(df.loc[i:i+datapoints-1][\"z\"])\n",
    "\n",
    "\t\tnew_df_dict = dict()\n",
    "\t\tfor (col, name) in [(gyro_x, \"gyro_x\"), (gyro_y, \"gyro_y\"), (gyro_z, \"gyro_z\"), (acce_x, \"acce_x\"), (acce_y, \"acce_y\"), (acce_z, \"acce_z\")]:\n",
    "\t\t\tif len(col) == datapoints:\n",
    "\t\t\t\tfor c in range(datapoints):\n",
    "\t\t\t\t\tnew_df_dict[name + \"_\" + str(c)] = [col[c]]\n",
    "\n",
    "\n",
    "\t\tnew_df_dict[\"longitude\"] = [df.loc[i][\"longitude\"]]\n",
    "\t\tnew_df_dict[\"latitude\"] = [df.loc[i][\"latitude\"]]\n",
    "\t\tnew_df_dict[\"label\"] = [df.loc[i][\"label\"]]\n",
    "\n",
    "\t\tnew_df = pd.DataFrame.from_dict(new_df_dict)\n",
    "\t\t\n",
    "\t\ttrain_df = pd.concat([train_df, new_df], ignore_index = True)\n",
    "\n",
    "\t# relabel and save to file\n",
    "\ttrain_df[\"label\"] = train_df[\"label\"].map({\"lift\": 0, \"piste\": 1})\n",
    "\ttrain_df = train_df.dropna()\n",
    "\t# save to file\n",
    "\ttrain_df.to_csv(\"./data/\" + prefix + \"/\" + prefix + \"_\" + str(datapoints) + \".csv\", index=False)"
   ]
  },
  {
   "cell_type": "code",
   "execution_count": 4,
   "metadata": {},
   "outputs": [
    {
     "name": "stdout",
     "output_type": "stream",
     "text": [
      "Generating dataset: prefix: train and datapoints: 400 ...\n",
      "Generating dataset: prefix: test and datapoints: 400 ...\n",
      "Generating dataset: prefix: train and datapoints: 500 ...\n",
      "Generating dataset: prefix: test and datapoints: 500 ...\n"
     ]
    }
   ],
   "source": [
    "# generate different size datasets\n",
    "\n",
    "# Augment training data\n",
    "datapoints = [50, 100, 200, 300, 400, 500]\t\n",
    "# Every n steps take the next 100 datapoints and add them as a row\n",
    "n_steps = 10\n",
    "# The ratio datapoints/n_steps is how much the data will be augmented\n",
    "\n",
    "# change train and test\n",
    "prefixes = [\"train\", \"test\"]\n",
    "\n",
    "for d in datapoints:\n",
    "\tfor p in prefixes:\n",
    "\t\tdf = pd.read_csv(\"./data/\" + p + \"/labelled.csv\")\n",
    "\t\tprint(\"Generating dataset: \" + \"prefix: \" + p + \" and datapoints: \" + str(d) + \" ...\")\n",
    "\t\tgenerate_dataset(d, n_steps, p, df)"
   ]
  },
  {
   "cell_type": "code",
   "execution_count": 6,
   "metadata": {},
   "outputs": [],
   "source": [
    "# Generate single dataset for testing\n",
    "prefix = \"test\"\n",
    "datapoints = 400\n",
    "n_steps = 30\n",
    "df = pd.read_csv(\"./data/\" + prefix + \"/labelled.csv\")\n",
    "\n",
    "columns = ['y', 'qz', 'qy', 'qx', 'qw', 'pitch']\n",
    "\n",
    "train_df = pd.DataFrame()\n",
    "\n",
    "for i in range(df.index.start, df.index.stop, n_steps):\n",
    "\tif len(set(list(df.loc[i:i+datapoints-1][\"label\"]))) != 1:\n",
    "\t\tcontinue\n",
    "\n",
    "\tnew_df_dict = dict()\n",
    "\n",
    "\tfor col in columns:\n",
    "\t\tcol_list = list(df.loc[i:i+datapoints-1][col])\n",
    "\n",
    "\t\tif len(col_list) == datapoints:\n",
    "\t\t\tfor c in range(datapoints):\n",
    "\t\t\t\tnew_df_dict[col + \"_\" + str(c)] = [col_list[c]]\n",
    "\n",
    "\n",
    "\tnew_df_dict[\"longitude\"] = [df.loc[i][\"longitude\"]]\n",
    "\tnew_df_dict[\"latitude\"] = [df.loc[i][\"latitude\"]]\n",
    "\tnew_df_dict[\"speed\"] = [df.loc[i][\"speed\"]]\n",
    "\tnew_df_dict[\"altitude\"] = [df.loc[i][\"altitude\"]]\n",
    "\tnew_df_dict[\"label\"] = [df.loc[i][\"label\"]]\n",
    "\n",
    "\tnew_df = pd.DataFrame.from_dict(new_df_dict)\n",
    "\t\n",
    "\ttrain_df = pd.concat([train_df, new_df], ignore_index = True)\n",
    "\n",
    "# relabel and save to file\n",
    "train_df[\"label\"] = train_df[\"label\"].map({\"lift\": 0, \"piste\": 1})\n",
    "train_df = train_df.dropna()"
   ]
  },
  {
   "cell_type": "code",
   "execution_count": 5,
   "metadata": {},
   "outputs": [],
   "source": [
    "# save to file\n",
    "train_df.to_csv(\"./data/\" + prefix + \"/\" + prefix + \"_quat_final_\" + str(datapoints) + \".csv\", index=False)"
   ]
  }
 ],
 "metadata": {
  "kernelspec": {
   "display_name": "Python 3",
   "language": "python",
   "name": "python3"
  },
  "language_info": {
   "codemirror_mode": {
    "name": "ipython",
    "version": 3
   },
   "file_extension": ".py",
   "mimetype": "text/x-python",
   "name": "python",
   "nbconvert_exporter": "python",
   "pygments_lexer": "ipython3",
   "version": "3.8.10"
  }
 },
 "nbformat": 4,
 "nbformat_minor": 2
}

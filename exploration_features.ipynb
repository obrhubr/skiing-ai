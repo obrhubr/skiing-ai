{
 "cells": [
  {
   "cell_type": "code",
   "execution_count": 2,
   "metadata": {},
   "outputs": [],
   "source": [
    "from sklearn.feature_selection import SelectKBest\n",
    "from sklearn.feature_selection import f_classif\n",
    "import pandas as pd"
   ]
  },
  {
   "cell_type": "code",
   "execution_count": 3,
   "metadata": {},
   "outputs": [],
   "source": [
    "df = pd.read_csv(\"./data/train/labelled.csv\")\n",
    "df[\"label\"] = df[\"label\"].map({\"lift\": 0, \"piste\": 1})\n",
    "df = df[[\"z\",\"y\",\"x\",\"qz\",\"qy\",\"qx\",\"qw\",\"roll\",\"pitch\",\"yaw\",\"z_gyro\",\"y_gyro\",\"x_gyro\", \"label\"]]"
   ]
  },
  {
   "cell_type": "code",
   "execution_count": 4,
   "metadata": {},
   "outputs": [
    {
     "data": {
      "text/html": [
       "<div>\n",
       "<style scoped>\n",
       "    .dataframe tbody tr th:only-of-type {\n",
       "        vertical-align: middle;\n",
       "    }\n",
       "\n",
       "    .dataframe tbody tr th {\n",
       "        vertical-align: top;\n",
       "    }\n",
       "\n",
       "    .dataframe thead th {\n",
       "        text-align: right;\n",
       "    }\n",
       "</style>\n",
       "<table border=\"1\" class=\"dataframe\">\n",
       "  <thead>\n",
       "    <tr style=\"text-align: right;\">\n",
       "      <th></th>\n",
       "      <th>z</th>\n",
       "      <th>y</th>\n",
       "      <th>x</th>\n",
       "      <th>qz</th>\n",
       "      <th>qy</th>\n",
       "      <th>qx</th>\n",
       "      <th>qw</th>\n",
       "      <th>roll</th>\n",
       "      <th>pitch</th>\n",
       "      <th>yaw</th>\n",
       "      <th>z_gyro</th>\n",
       "      <th>y_gyro</th>\n",
       "      <th>x_gyro</th>\n",
       "      <th>label</th>\n",
       "    </tr>\n",
       "  </thead>\n",
       "  <tbody>\n",
       "    <tr>\n",
       "      <th>0</th>\n",
       "      <td>0.199296</td>\n",
       "      <td>-0.567186</td>\n",
       "      <td>0.376559</td>\n",
       "      <td>-0.538137</td>\n",
       "      <td>-0.132855</td>\n",
       "      <td>0.247767</td>\n",
       "      <td>0.794584</td>\n",
       "      <td>0.065866</td>\n",
       "      <td>-0.566559</td>\n",
       "      <td>1.209773</td>\n",
       "      <td>0.023060</td>\n",
       "      <td>-0.155007</td>\n",
       "      <td>0.066737</td>\n",
       "      <td>0</td>\n",
       "    </tr>\n",
       "    <tr>\n",
       "      <th>1</th>\n",
       "      <td>0.527440</td>\n",
       "      <td>-0.368786</td>\n",
       "      <td>0.474549</td>\n",
       "      <td>-0.538009</td>\n",
       "      <td>-0.135082</td>\n",
       "      <td>0.247125</td>\n",
       "      <td>0.794499</td>\n",
       "      <td>0.060856</td>\n",
       "      <td>-0.568101</td>\n",
       "      <td>1.208247</td>\n",
       "      <td>-0.042226</td>\n",
       "      <td>-0.182801</td>\n",
       "      <td>0.053756</td>\n",
       "      <td>0</td>\n",
       "    </tr>\n",
       "    <tr>\n",
       "      <th>2</th>\n",
       "      <td>0.440784</td>\n",
       "      <td>-0.325377</td>\n",
       "      <td>0.369789</td>\n",
       "      <td>-0.539784</td>\n",
       "      <td>-0.136776</td>\n",
       "      <td>0.245913</td>\n",
       "      <td>0.793375</td>\n",
       "      <td>0.057503</td>\n",
       "      <td>-0.567909</td>\n",
       "      <td>1.211638</td>\n",
       "      <td>-0.107512</td>\n",
       "      <td>-0.210596</td>\n",
       "      <td>0.040775</td>\n",
       "      <td>0</td>\n",
       "    </tr>\n",
       "    <tr>\n",
       "      <th>3</th>\n",
       "      <td>0.354127</td>\n",
       "      <td>-0.281968</td>\n",
       "      <td>0.265030</td>\n",
       "      <td>-0.541559</td>\n",
       "      <td>-0.138471</td>\n",
       "      <td>0.244701</td>\n",
       "      <td>0.792251</td>\n",
       "      <td>0.054149</td>\n",
       "      <td>-0.567717</td>\n",
       "      <td>1.215029</td>\n",
       "      <td>-0.060705</td>\n",
       "      <td>0.074526</td>\n",
       "      <td>-0.127900</td>\n",
       "      <td>0</td>\n",
       "    </tr>\n",
       "    <tr>\n",
       "      <th>4</th>\n",
       "      <td>0.301871</td>\n",
       "      <td>-0.238195</td>\n",
       "      <td>0.405109</td>\n",
       "      <td>-0.541207</td>\n",
       "      <td>-0.132124</td>\n",
       "      <td>0.243738</td>\n",
       "      <td>0.793842</td>\n",
       "      <td>0.063763</td>\n",
       "      <td>-0.558619</td>\n",
       "      <td>1.215003</td>\n",
       "      <td>-0.013897</td>\n",
       "      <td>0.359647</td>\n",
       "      <td>-0.296575</td>\n",
       "      <td>0</td>\n",
       "    </tr>\n",
       "  </tbody>\n",
       "</table>\n",
       "</div>"
      ],
      "text/plain": [
       "          z         y         x        qz        qy        qx        qw  \\\n",
       "0  0.199296 -0.567186  0.376559 -0.538137 -0.132855  0.247767  0.794584   \n",
       "1  0.527440 -0.368786  0.474549 -0.538009 -0.135082  0.247125  0.794499   \n",
       "2  0.440784 -0.325377  0.369789 -0.539784 -0.136776  0.245913  0.793375   \n",
       "3  0.354127 -0.281968  0.265030 -0.541559 -0.138471  0.244701  0.792251   \n",
       "4  0.301871 -0.238195  0.405109 -0.541207 -0.132124  0.243738  0.793842   \n",
       "\n",
       "       roll     pitch       yaw    z_gyro    y_gyro    x_gyro  label  \n",
       "0  0.065866 -0.566559  1.209773  0.023060 -0.155007  0.066737      0  \n",
       "1  0.060856 -0.568101  1.208247 -0.042226 -0.182801  0.053756      0  \n",
       "2  0.057503 -0.567909  1.211638 -0.107512 -0.210596  0.040775      0  \n",
       "3  0.054149 -0.567717  1.215029 -0.060705  0.074526 -0.127900      0  \n",
       "4  0.063763 -0.558619  1.215003 -0.013897  0.359647 -0.296575      0  "
      ]
     },
     "execution_count": 4,
     "metadata": {},
     "output_type": "execute_result"
    }
   ],
   "source": [
    "df.head()"
   ]
  },
  {
   "cell_type": "code",
   "execution_count": 5,
   "metadata": {},
   "outputs": [],
   "source": [
    "X = df.iloc[:, 0:-1]\n",
    "y = df.iloc[:, -1]"
   ]
  },
  {
   "cell_type": "code",
   "execution_count": 17,
   "metadata": {},
   "outputs": [],
   "source": [
    "features = []\n",
    "\n",
    "for i in range(12):\n",
    "\tselector = SelectKBest(f_classif, k=(i+1))\n",
    "\tX_new = selector.fit_transform(X, y)\n",
    "\n",
    "\tfeatures += [X.columns.values[selector.get_support()]]"
   ]
  },
  {
   "cell_type": "code",
   "execution_count": 25,
   "metadata": {},
   "outputs": [
    {
     "data": {
      "text/plain": [
       "[array(['pitch'], dtype=object),\n",
       " array(['pitch', 'qy'], dtype=object),\n",
       " array(['pitch', 'qx', 'qy'], dtype=object),\n",
       " array(['pitch', 'qx', 'qy', 'qz'], dtype=object),\n",
       " array(['pitch', 'qw', 'qx', 'qy', 'qz'], dtype=object),\n",
       " array(['pitch', 'qw', 'qx', 'qy', 'qz', 'y'], dtype=object),\n",
       " array(['pitch', 'qw', 'qx', 'qy', 'qz', 'roll', 'y'], dtype=object),\n",
       " array(['pitch', 'qw', 'qx', 'qy', 'qz', 'roll', 'x_gyro', 'y'],\n",
       "       dtype=object),\n",
       " array(['pitch', 'qw', 'qx', 'qy', 'qz', 'roll', 'x_gyro', 'y', 'yaw'],\n",
       "       dtype=object),\n",
       " array(['pitch', 'qw', 'qx', 'qy', 'qz', 'roll', 'x_gyro', 'y', 'yaw',\n",
       "        'z_gyro'], dtype=object),\n",
       " array(['pitch', 'qw', 'qx', 'qy', 'qz', 'roll', 'x', 'x_gyro', 'y', 'yaw',\n",
       "        'z_gyro'], dtype=object),\n",
       " array(['pitch', 'qw', 'qx', 'qy', 'qz', 'roll', 'x', 'x_gyro', 'y', 'yaw',\n",
       "        'z', 'z_gyro'], dtype=object)]"
      ]
     },
     "execution_count": 25,
     "metadata": {},
     "output_type": "execute_result"
    }
   ],
   "source": [
    "features"
   ]
  }
 ],
 "metadata": {
  "kernelspec": {
   "display_name": "Python 3",
   "language": "python",
   "name": "python3"
  },
  "language_info": {
   "codemirror_mode": {
    "name": "ipython",
    "version": 3
   },
   "file_extension": ".py",
   "mimetype": "text/x-python",
   "name": "python",
   "nbconvert_exporter": "python",
   "pygments_lexer": "ipython3",
   "version": "3.8.10"
  }
 },
 "nbformat": 4,
 "nbformat_minor": 2
}

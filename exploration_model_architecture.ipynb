{
 "cells": [
  {
   "cell_type": "code",
   "execution_count": 15,
   "metadata": {},
   "outputs": [],
   "source": [
    "import pandas as pd\n",
    "import seaborn as sns\n",
    "import matplotlib.pyplot as plt\n",
    "import numpy as np\n",
    "\n",
    "from utils import *"
   ]
  },
  {
   "cell_type": "code",
   "execution_count": 16,
   "metadata": {},
   "outputs": [],
   "source": [
    "import tensorflow as tf\n",
    "import keras"
   ]
  },
  {
   "cell_type": "code",
   "execution_count": 33,
   "metadata": {},
   "outputs": [],
   "source": [
    "def optimise_conv(hp):\n",
    "\tchannels = 6\n",
    "\tlength = 400\n",
    "\t\n",
    "\tinput_shape = (length, channels)\n",
    "\tnum_classes = 1\n",
    "\n",
    "\tinput_layer = keras.layers.Input(input_shape)\n",
    "\n",
    "\tconv1 = keras.layers.Conv1D(filters=hp.Int(\"filters\", min_value=32, max_value=128, step=32), kernel_size=hp.Int(\"kernel_size\", min_value=4, max_value=10, step=2), padding=\"same\")(input_layer)\n",
    "\tconv1 = keras.layers.BatchNormalization()(conv1)\n",
    "\tconv1 = keras.layers.ReLU()(conv1)\n",
    "\n",
    "\tconv2 = keras.layers.Conv1D(filters=hp.Int(\"filters\", min_value=32, max_value=128, step=32), kernel_size=hp.Int(\"kernel_size\", min_value=4, max_value=12, step=2), padding=\"same\")(conv1)\n",
    "\tconv2 = keras.layers.BatchNormalization()(conv2)\n",
    "\tconv2 = keras.layers.ReLU()(conv2)\n",
    "\n",
    "\tconv3 = keras.layers.Conv1D(filters=hp.Int(\"filters\", min_value=32, max_value=128, step=32), kernel_size=hp.Int(\"kernel_size\", min_value=4, max_value=12, step=2), padding=\"same\")(conv2)\n",
    "\tconv3 = keras.layers.BatchNormalization()(conv3)\n",
    "\tconv3 = keras.layers.ReLU()(conv3)\n",
    "\n",
    "\tgap = keras.layers.GlobalAveragePooling1D()(conv3)\n",
    "\n",
    "\toutput_layer = keras.layers.Dense(num_classes, activation=\"sigmoid\")(gap)\n",
    "\n",
    "\tmodel = keras.models.Model(inputs=input_layer, outputs=output_layer)\n",
    "\n",
    "\tmodel.compile(\n",
    "\t\toptimizer=\"adam\",\n",
    "\t\tloss=\"binary_crossentropy\",\n",
    "\t\tmetrics=[\"accuracy\"],\n",
    "\t)\n",
    "\n",
    "\treturn model"
   ]
  },
  {
   "cell_type": "code",
   "execution_count": 29,
   "metadata": {},
   "outputs": [
    {
     "name": "stdout",
     "output_type": "stream",
     "text": [
      "Training on dataset with  400 datapoints...\n",
      "Loading training data (type= train datapoints= 400 )...\n",
      "Reshaping input for convolution...\n",
      "Loading training data (type= test datapoints= 400 )...\n",
      "Reshaping input for convolution...\n"
     ]
    }
   ],
   "source": [
    "# dataset specific\n",
    "channels = 6\n",
    "data = 400\n",
    "\n",
    "print(\"Training on dataset with \", data, \"datapoints...\")\n",
    "(df, X_conv, y) = get_data_conv(\"train\", data, channels, extra=\"quat\")\n",
    "(df, X_test_conv, y_test) = get_data_conv(\"test\", data, channels, extra=\"quat\")"
   ]
  },
  {
   "cell_type": "code",
   "execution_count": 34,
   "metadata": {},
   "outputs": [
    {
     "name": "stdout",
     "output_type": "stream",
     "text": [
      "Creating model...\n"
     ]
    }
   ],
   "source": [
    "# train convolutional model\n",
    "import keras_tuner\n",
    "\n",
    "epochs = 60\n",
    "batch_size = 32\n",
    "\n",
    "print(\"Creating model...\")\n",
    "model = optimise_conv(keras_tuner.HyperParameters())\n",
    "\n",
    "tuner = keras_tuner.RandomSearch(\n",
    "    hypermodel=optimise_conv,\n",
    "    objective=\"val_accuracy\",\n",
    "    executions_per_trial=1,\n",
    "    overwrite=True,\n",
    "    directory=\"./models/optimise/tuner\",\n",
    "    project_name=\"skiingai\",\n",
    ")"
   ]
  },
  {
   "cell_type": "code",
   "execution_count": 35,
   "metadata": {},
   "outputs": [
    {
     "name": "stdout",
     "output_type": "stream",
     "text": [
      "Trial 10 Complete [00h 00m 40s]\n",
      "val_accuracy: 0.6383700966835022\n",
      "\n",
      "Best val_accuracy So Far: 0.7308998107910156\n",
      "Total elapsed time: 00h 06m 24s\n"
     ]
    }
   ],
   "source": [
    "print(\"Searcing for best configs model...\")\n",
    "tuner.search(X_conv, y, epochs=5, validation_data=(X_test_conv, y_test))"
   ]
  },
  {
   "cell_type": "code",
   "execution_count": 36,
   "metadata": {},
   "outputs": [
    {
     "name": "stdout",
     "output_type": "stream",
     "text": [
      "Model: \"model\"\n",
      "_________________________________________________________________\n",
      " Layer (type)                Output Shape              Param #   \n",
      "=================================================================\n",
      " input_1 (InputLayer)        [(None, 400, 6)]          0         \n",
      "                                                                 \n",
      " conv1d (Conv1D)             (None, 400, 96)           3552      \n",
      "                                                                 \n",
      " batch_normalization (BatchN  (None, 400, 96)          384       \n",
      " ormalization)                                                   \n",
      "                                                                 \n",
      " re_lu (ReLU)                (None, 400, 96)           0         \n",
      "                                                                 \n",
      " conv1d_1 (Conv1D)           (None, 400, 96)           55392     \n",
      "                                                                 \n",
      " batch_normalization_1 (Batc  (None, 400, 96)          384       \n",
      " hNormalization)                                                 \n",
      "                                                                 \n",
      " re_lu_1 (ReLU)              (None, 400, 96)           0         \n",
      "                                                                 \n",
      " conv1d_2 (Conv1D)           (None, 400, 96)           55392     \n",
      "                                                                 \n",
      " batch_normalization_2 (Batc  (None, 400, 96)          384       \n",
      " hNormalization)                                                 \n",
      "                                                                 \n",
      " re_lu_2 (ReLU)              (None, 400, 96)           0         \n",
      "                                                                 \n",
      " global_average_pooling1d (G  (None, 96)               0         \n",
      " lobalAveragePooling1D)                                          \n",
      "                                                                 \n",
      " dense (Dense)               (None, 1)                 97        \n",
      "                                                                 \n",
      "=================================================================\n",
      "Total params: 115,585\n",
      "Trainable params: 115,009\n",
      "Non-trainable params: 576\n",
      "_________________________________________________________________\n"
     ]
    }
   ],
   "source": [
    "models = tuner.get_best_models(num_models=1)\n",
    "best_model = models[0]\n",
    "best_model.summary()"
   ]
  },
  {
   "cell_type": "code",
   "execution_count": 37,
   "metadata": {},
   "outputs": [
    {
     "name": "stdout",
     "output_type": "stream",
     "text": [
      "37/37 [==============================] - 1s 16ms/step - loss: 0.5280 - accuracy: 0.7309\n",
      "Accuracy of model 0.7308998107910156\n"
     ]
    }
   ],
   "source": [
    "result = best_model.evaluate(X_test_conv, y_test)\n",
    "print(\"Accuracy of model\", result[1])"
   ]
  },
  {
   "cell_type": "code",
   "execution_count": 39,
   "metadata": {},
   "outputs": [],
   "source": [
    "best_model.save(\"./models/optimise/best_tuned.keras\")"
   ]
  },
  {
   "cell_type": "code",
   "execution_count": 40,
   "metadata": {},
   "outputs": [
    {
     "name": "stdout",
     "output_type": "stream",
     "text": [
      "WARNING:tensorflow:Error in loading the saved optimizer state. As a result, your model is starting with a freshly initialized optimizer.\n",
      "Evaluating model...\n",
      "37/37 [==============================] - 1s 15ms/step - loss: 0.5280 - accuracy: 0.7309\n",
      "Accuracy of model for 400 datapoints:  0.7308998107910156\n"
     ]
    }
   ],
   "source": [
    "# Evaluate best_tuned.keras convolutional model trained on 400 datapoints\n",
    "\n",
    "model = tf.keras.models.load_model('./models/optimise/best_tuned.keras')\n",
    "print(\"Evaluating model...\")\n",
    "result = model.evaluate(X_test_conv, y_test)\n",
    "print(\"Accuracy of model for \" + str(data) + \" datapoints: \", result[1])"
   ]
  },
  {
   "cell_type": "code",
   "execution_count": 45,
   "metadata": {},
   "outputs": [
    {
     "name": "stdout",
     "output_type": "stream",
     "text": [
      "WARNING:tensorflow:Error in loading the saved optimizer state. As a result, your model is starting with a freshly initialized optimizer.\n",
      "Epoch 1/100\n",
      "97/97 [==============================] - 15s 148ms/step - loss: 0.2468 - accuracy: 0.8979 - val_loss: 1.0578 - val_accuracy: 0.5407\n",
      "Epoch 2/100\n",
      "97/97 [==============================] - 14s 147ms/step - loss: 0.2270 - accuracy: 0.9044 - val_loss: 0.9789 - val_accuracy: 0.6392\n",
      "Epoch 3/100\n",
      "97/97 [==============================] - 14s 143ms/step - loss: 0.1987 - accuracy: 0.9191 - val_loss: 1.3060 - val_accuracy: 0.5586\n",
      "Epoch 4/100\n",
      "97/97 [==============================] - 15s 153ms/step - loss: 0.2033 - accuracy: 0.9148 - val_loss: 0.7737 - val_accuracy: 0.6715\n",
      "Epoch 5/100\n",
      "97/97 [==============================] - 14s 142ms/step - loss: 0.2009 - accuracy: 0.9168 - val_loss: 1.1037 - val_accuracy: 0.6443\n",
      "Epoch 6/100\n",
      "97/97 [==============================] - 14s 142ms/step - loss: 0.1715 - accuracy: 0.9272 - val_loss: 1.1419 - val_accuracy: 0.6553\n",
      "Epoch 7/100\n",
      "97/97 [==============================] - 14s 145ms/step - loss: 0.1700 - accuracy: 0.9285 - val_loss: 1.2273 - val_accuracy: 0.6265\n",
      "Epoch 8/100\n",
      "97/97 [==============================] - 14s 141ms/step - loss: 0.1613 - accuracy: 0.9324 - val_loss: 1.2875 - val_accuracy: 0.6604\n",
      "Epoch 9/100\n",
      "97/97 [==============================] - 14s 141ms/step - loss: 0.1510 - accuracy: 0.9402 - val_loss: 1.0410 - val_accuracy: 0.6944\n",
      "Epoch 10/100\n",
      "97/97 [==============================] - 14s 143ms/step - loss: 0.1642 - accuracy: 0.9343 - val_loss: 1.0444 - val_accuracy: 0.7037\n",
      "Epoch 11/100\n",
      "97/97 [==============================] - 14s 142ms/step - loss: 0.1566 - accuracy: 0.9350 - val_loss: 1.4252 - val_accuracy: 0.6171\n",
      "Epoch 12/100\n",
      "97/97 [==============================] - 14s 139ms/step - loss: 0.1536 - accuracy: 0.9386 - val_loss: 1.1705 - val_accuracy: 0.6477\n",
      "Epoch 13/100\n",
      "97/97 [==============================] - 14s 141ms/step - loss: 0.1612 - accuracy: 0.9275 - val_loss: 1.1333 - val_accuracy: 0.6672\n",
      "Epoch 14/100\n",
      "97/97 [==============================] - 14s 144ms/step - loss: 0.1378 - accuracy: 0.9421 - val_loss: 1.3289 - val_accuracy: 0.6256\n",
      "Epoch 15/100\n",
      "97/97 [==============================] - 14s 143ms/step - loss: 0.1475 - accuracy: 0.9389 - val_loss: 1.0581 - val_accuracy: 0.6817\n",
      "Epoch 16/100\n",
      "97/97 [==============================] - 14s 140ms/step - loss: 0.1458 - accuracy: 0.9412 - val_loss: 1.1736 - val_accuracy: 0.6817\n",
      "Epoch 17/100\n",
      "97/97 [==============================] - 14s 144ms/step - loss: 0.1330 - accuracy: 0.9470 - val_loss: 1.5407 - val_accuracy: 0.5883\n",
      "Epoch 18/100\n",
      "97/97 [==============================] - 14s 141ms/step - loss: 0.1560 - accuracy: 0.9347 - val_loss: 1.0833 - val_accuracy: 0.6834\n",
      "Epoch 19/100\n",
      "97/97 [==============================] - 14s 144ms/step - loss: 0.1319 - accuracy: 0.9441 - val_loss: 0.9501 - val_accuracy: 0.6630\n",
      "Epoch 20/100\n",
      "97/97 [==============================] - 14s 146ms/step - loss: 0.1230 - accuracy: 0.9473 - val_loss: 1.4724 - val_accuracy: 0.6333\n",
      "Epoch 21/100\n",
      "97/97 [==============================] - 14s 144ms/step - loss: 0.1695 - accuracy: 0.9340 - val_loss: 1.8436 - val_accuracy: 0.5535\n",
      "Epoch 22/100\n",
      "97/97 [==============================] - 14s 141ms/step - loss: 0.1400 - accuracy: 0.9441 - val_loss: 1.2519 - val_accuracy: 0.6511\n",
      "Epoch 23/100\n",
      "97/97 [==============================] - 14s 146ms/step - loss: 0.1298 - accuracy: 0.9483 - val_loss: 1.2070 - val_accuracy: 0.6333\n",
      "Epoch 24/100\n",
      "97/97 [==============================] - 14s 142ms/step - loss: 0.1220 - accuracy: 0.9519 - val_loss: 1.6128 - val_accuracy: 0.5323\n",
      "Epoch 25/100\n",
      "97/97 [==============================] - 14s 143ms/step - loss: 0.1483 - accuracy: 0.9386 - val_loss: 0.9686 - val_accuracy: 0.6460\n",
      "Epoch 26/100\n",
      "97/97 [==============================] - 14s 144ms/step - loss: 0.1251 - accuracy: 0.9486 - val_loss: 1.4162 - val_accuracy: 0.6282\n",
      "Epoch 27/100\n",
      "97/97 [==============================] - 14s 143ms/step - loss: 0.1459 - accuracy: 0.9418 - val_loss: 1.2934 - val_accuracy: 0.6664\n",
      "Epoch 28/100\n",
      "97/97 [==============================] - 14s 142ms/step - loss: 0.1299 - accuracy: 0.9470 - val_loss: 1.1534 - val_accuracy: 0.6621\n",
      "Epoch 29/100\n",
      "97/97 [==============================] - 14s 142ms/step - loss: 0.1159 - accuracy: 0.9558 - val_loss: 1.3499 - val_accuracy: 0.6630\n",
      "Epoch 30/100\n",
      "97/97 [==============================] - 14s 143ms/step - loss: 0.1109 - accuracy: 0.9542 - val_loss: 2.1691 - val_accuracy: 0.4907\n",
      "Epoch 31/100\n",
      "97/97 [==============================] - 14s 144ms/step - loss: 0.1281 - accuracy: 0.9480 - val_loss: 1.1740 - val_accuracy: 0.6715\n",
      "Epoch 32/100\n",
      "97/97 [==============================] - 14s 143ms/step - loss: 0.1158 - accuracy: 0.9538 - val_loss: 1.1240 - val_accuracy: 0.6757\n",
      "Epoch 33/100\n",
      "97/97 [==============================] - 14s 143ms/step - loss: 0.1086 - accuracy: 0.9542 - val_loss: 1.1100 - val_accuracy: 0.6834\n",
      "Epoch 34/100\n",
      "97/97 [==============================] - 15s 151ms/step - loss: 0.1099 - accuracy: 0.9535 - val_loss: 1.4850 - val_accuracy: 0.6681\n",
      "Epoch 35/100\n",
      "97/97 [==============================] - 14s 141ms/step - loss: 0.1120 - accuracy: 0.9551 - val_loss: 1.0473 - val_accuracy: 0.6851\n",
      "Epoch 36/100\n",
      "97/97 [==============================] - 14s 145ms/step - loss: 0.1047 - accuracy: 0.9584 - val_loss: 1.5986 - val_accuracy: 0.6553\n",
      "Epoch 37/100\n",
      "97/97 [==============================] - 14s 144ms/step - loss: 0.1083 - accuracy: 0.9555 - val_loss: 1.4190 - val_accuracy: 0.6316\n",
      "Epoch 38/100\n",
      "97/97 [==============================] - 14s 146ms/step - loss: 0.0950 - accuracy: 0.9610 - val_loss: 1.3062 - val_accuracy: 0.6613\n",
      "Epoch 39/100\n",
      "97/97 [==============================] - 14s 143ms/step - loss: 0.1052 - accuracy: 0.9574 - val_loss: 1.2432 - val_accuracy: 0.6664\n",
      "Epoch 40/100\n",
      "97/97 [==============================] - 14s 142ms/step - loss: 0.1111 - accuracy: 0.9561 - val_loss: 1.4598 - val_accuracy: 0.6732\n",
      "Epoch 41/100\n",
      "97/97 [==============================] - 14s 144ms/step - loss: 0.1027 - accuracy: 0.9584 - val_loss: 1.7213 - val_accuracy: 0.6273\n",
      "Epoch 42/100\n",
      "97/97 [==============================] - 14s 144ms/step - loss: 0.1081 - accuracy: 0.9597 - val_loss: 1.7548 - val_accuracy: 0.5645\n",
      "Epoch 43/100\n",
      "97/97 [==============================] - 14s 145ms/step - loss: 0.0895 - accuracy: 0.9652 - val_loss: 1.3859 - val_accuracy: 0.6520\n",
      "Epoch 44/100\n",
      "97/97 [==============================] - 14s 145ms/step - loss: 0.0971 - accuracy: 0.9623 - val_loss: 1.3204 - val_accuracy: 0.6783\n",
      "Epoch 45/100\n",
      "97/97 [==============================] - 14s 143ms/step - loss: 0.0971 - accuracy: 0.9652 - val_loss: 1.8428 - val_accuracy: 0.6248\n",
      "Epoch 46/100\n",
      "97/97 [==============================] - 14s 145ms/step - loss: 0.0886 - accuracy: 0.9649 - val_loss: 1.5078 - val_accuracy: 0.6367\n",
      "Epoch 47/100\n",
      "97/97 [==============================] - 14s 148ms/step - loss: 0.0918 - accuracy: 0.9620 - val_loss: 1.3048 - val_accuracy: 0.6587\n",
      "Epoch 48/100\n",
      "97/97 [==============================] - 14s 146ms/step - loss: 0.0889 - accuracy: 0.9652 - val_loss: 1.5481 - val_accuracy: 0.6698\n",
      "Epoch 49/100\n",
      "97/97 [==============================] - 14s 144ms/step - loss: 0.1157 - accuracy: 0.9568 - val_loss: 1.4942 - val_accuracy: 0.6570\n",
      "Epoch 50/100\n",
      "97/97 [==============================] - 14s 144ms/step - loss: 0.1038 - accuracy: 0.9597 - val_loss: 1.6317 - val_accuracy: 0.6604\n",
      "Epoch 51/100\n",
      "97/97 [==============================] - 14s 146ms/step - loss: 0.0937 - accuracy: 0.9594 - val_loss: 1.4170 - val_accuracy: 0.6740\n",
      "Epoch 52/100\n",
      "97/97 [==============================] - 14s 144ms/step - loss: 0.0919 - accuracy: 0.9672 - val_loss: 1.1307 - val_accuracy: 0.6426\n",
      "Epoch 53/100\n",
      "97/97 [==============================] - 12s 121ms/step - loss: 0.0791 - accuracy: 0.9675 - val_loss: 1.3695 - val_accuracy: 0.6706\n",
      "Epoch 54/100\n",
      "97/97 [==============================] - 7s 74ms/step - loss: 0.0911 - accuracy: 0.9655 - val_loss: 1.7905 - val_accuracy: 0.6409\n",
      "Epoch 55/100\n",
      "97/97 [==============================] - 7s 72ms/step - loss: 0.0903 - accuracy: 0.9662 - val_loss: 1.6408 - val_accuracy: 0.6452\n",
      "Epoch 56/100\n",
      "97/97 [==============================] - 7s 71ms/step - loss: 0.1128 - accuracy: 0.9522 - val_loss: 1.4778 - val_accuracy: 0.6732\n",
      "Epoch 57/100\n",
      "97/97 [==============================] - 7s 71ms/step - loss: 0.0797 - accuracy: 0.9678 - val_loss: 1.8037 - val_accuracy: 0.6299\n",
      "Epoch 58/100\n",
      "97/97 [==============================] - 7s 71ms/step - loss: 0.1017 - accuracy: 0.9564 - val_loss: 1.5103 - val_accuracy: 0.6222\n",
      "Epoch 59/100\n",
      "97/97 [==============================] - 7s 72ms/step - loss: 0.0826 - accuracy: 0.9681 - val_loss: 1.6342 - val_accuracy: 0.6375\n",
      "Epoch 60/100\n",
      "97/97 [==============================] - 7s 71ms/step - loss: 0.0712 - accuracy: 0.9733 - val_loss: 1.8085 - val_accuracy: 0.6299\n",
      "Epoch 61/100\n",
      "97/97 [==============================] - 7s 71ms/step - loss: 0.0705 - accuracy: 0.9776 - val_loss: 1.5431 - val_accuracy: 0.6537\n",
      "Epoch 62/100\n",
      "97/97 [==============================] - 7s 72ms/step - loss: 0.1305 - accuracy: 0.9480 - val_loss: 1.5175 - val_accuracy: 0.6604\n",
      "Epoch 63/100\n",
      "97/97 [==============================] - 7s 71ms/step - loss: 0.0789 - accuracy: 0.9714 - val_loss: 1.9843 - val_accuracy: 0.6146\n",
      "Epoch 64/100\n",
      "97/97 [==============================] - 7s 71ms/step - loss: 0.0724 - accuracy: 0.9743 - val_loss: 1.8077 - val_accuracy: 0.6375\n",
      "Epoch 65/100\n",
      "97/97 [==============================] - 8s 81ms/step - loss: 0.0826 - accuracy: 0.9633 - val_loss: 1.3424 - val_accuracy: 0.6503\n",
      "Epoch 66/100\n",
      "97/97 [==============================] - 7s 73ms/step - loss: 0.0921 - accuracy: 0.9636 - val_loss: 1.5944 - val_accuracy: 0.6706\n",
      "Epoch 67/100\n",
      "97/97 [==============================] - 8s 78ms/step - loss: 0.0694 - accuracy: 0.9730 - val_loss: 1.5906 - val_accuracy: 0.6698\n",
      "Epoch 68/100\n",
      "97/97 [==============================] - 7s 73ms/step - loss: 0.0736 - accuracy: 0.9733 - val_loss: 2.1197 - val_accuracy: 0.6409\n",
      "Epoch 69/100\n",
      "97/97 [==============================] - 8s 85ms/step - loss: 0.0757 - accuracy: 0.9707 - val_loss: 2.1240 - val_accuracy: 0.6596\n",
      "Epoch 70/100\n",
      "97/97 [==============================] - 12s 127ms/step - loss: 0.0721 - accuracy: 0.9717 - val_loss: 1.7815 - val_accuracy: 0.6375\n",
      "Epoch 71/100\n",
      "97/97 [==============================] - 10s 101ms/step - loss: 0.0972 - accuracy: 0.9610 - val_loss: 1.7901 - val_accuracy: 0.6129\n",
      "Epoch 72/100\n",
      "97/97 [==============================] - 8s 80ms/step - loss: 0.0710 - accuracy: 0.9724 - val_loss: 2.2157 - val_accuracy: 0.5416\n",
      "Epoch 73/100\n",
      "97/97 [==============================] - 8s 84ms/step - loss: 0.1430 - accuracy: 0.9467 - val_loss: 2.6210 - val_accuracy: 0.5569\n",
      "Epoch 74/100\n",
      "97/97 [==============================] - 7s 73ms/step - loss: 0.0806 - accuracy: 0.9714 - val_loss: 1.7533 - val_accuracy: 0.6044\n",
      "Epoch 75/100\n",
      "97/97 [==============================] - 7s 74ms/step - loss: 0.0775 - accuracy: 0.9740 - val_loss: 1.8774 - val_accuracy: 0.6409\n",
      "Epoch 76/100\n",
      "97/97 [==============================] - 7s 74ms/step - loss: 0.0708 - accuracy: 0.9724 - val_loss: 1.7035 - val_accuracy: 0.6460\n",
      "Epoch 77/100\n",
      "97/97 [==============================] - 7s 74ms/step - loss: 0.0702 - accuracy: 0.9724 - val_loss: 1.6732 - val_accuracy: 0.6723\n",
      "Epoch 78/100\n",
      "97/97 [==============================] - 7s 72ms/step - loss: 0.0701 - accuracy: 0.9730 - val_loss: 1.7951 - val_accuracy: 0.6604\n",
      "Epoch 79/100\n",
      "97/97 [==============================] - 7s 73ms/step - loss: 0.0624 - accuracy: 0.9782 - val_loss: 2.3157 - val_accuracy: 0.6222\n",
      "Epoch 80/100\n",
      "97/97 [==============================] - 7s 73ms/step - loss: 0.0713 - accuracy: 0.9717 - val_loss: 1.8762 - val_accuracy: 0.6265\n",
      "Epoch 81/100\n",
      "97/97 [==============================] - 7s 72ms/step - loss: 0.0674 - accuracy: 0.9743 - val_loss: 1.9603 - val_accuracy: 0.6579\n",
      "Epoch 82/100\n",
      "97/97 [==============================] - 7s 76ms/step - loss: 0.0691 - accuracy: 0.9730 - val_loss: 2.0861 - val_accuracy: 0.5569\n",
      "Epoch 83/100\n",
      "97/97 [==============================] - 7s 75ms/step - loss: 0.0782 - accuracy: 0.9698 - val_loss: 1.8707 - val_accuracy: 0.6333\n",
      "Epoch 84/100\n",
      "97/97 [==============================] - 7s 73ms/step - loss: 0.0850 - accuracy: 0.9698 - val_loss: 2.0195 - val_accuracy: 0.6197\n",
      "Epoch 85/100\n",
      "97/97 [==============================] - 7s 73ms/step - loss: 0.0555 - accuracy: 0.9772 - val_loss: 1.8257 - val_accuracy: 0.6630\n",
      "Epoch 86/100\n",
      "97/97 [==============================] - 7s 74ms/step - loss: 0.0729 - accuracy: 0.9694 - val_loss: 1.7174 - val_accuracy: 0.6494\n",
      "Epoch 87/100\n",
      "97/97 [==============================] - 7s 73ms/step - loss: 0.0648 - accuracy: 0.9740 - val_loss: 1.9768 - val_accuracy: 0.6528\n",
      "Epoch 88/100\n",
      "97/97 [==============================] - 7s 72ms/step - loss: 0.0574 - accuracy: 0.9779 - val_loss: 2.1551 - val_accuracy: 0.6282\n",
      "Epoch 89/100\n",
      "97/97 [==============================] - 7s 73ms/step - loss: 0.0705 - accuracy: 0.9727 - val_loss: 1.5896 - val_accuracy: 0.6689\n",
      "Epoch 90/100\n",
      "97/97 [==============================] - 7s 72ms/step - loss: 0.0569 - accuracy: 0.9766 - val_loss: 1.5653 - val_accuracy: 0.6740\n",
      "Epoch 91/100\n",
      "97/97 [==============================] - 7s 72ms/step - loss: 0.0949 - accuracy: 0.9610 - val_loss: 2.0066 - val_accuracy: 0.5696\n",
      "Epoch 92/100\n",
      "97/97 [==============================] - 7s 73ms/step - loss: 0.0635 - accuracy: 0.9753 - val_loss: 1.8048 - val_accuracy: 0.6307\n",
      "Epoch 93/100\n",
      "97/97 [==============================] - 7s 72ms/step - loss: 0.0585 - accuracy: 0.9811 - val_loss: 2.1717 - val_accuracy: 0.5119\n",
      "Epoch 94/100\n",
      "97/97 [==============================] - 7s 72ms/step - loss: 0.0597 - accuracy: 0.9795 - val_loss: 1.9493 - val_accuracy: 0.6520\n",
      "Epoch 95/100\n",
      "97/97 [==============================] - 7s 72ms/step - loss: 0.0508 - accuracy: 0.9795 - val_loss: 1.7652 - val_accuracy: 0.6486\n",
      "Epoch 96/100\n",
      "97/97 [==============================] - 7s 72ms/step - loss: 0.0525 - accuracy: 0.9802 - val_loss: 1.5467 - val_accuracy: 0.6791\n",
      "Epoch 97/100\n",
      "97/97 [==============================] - 7s 72ms/step - loss: 0.0656 - accuracy: 0.9737 - val_loss: 2.5984 - val_accuracy: 0.5908\n",
      "Epoch 98/100\n",
      "97/97 [==============================] - 7s 72ms/step - loss: 0.0547 - accuracy: 0.9805 - val_loss: 2.2861 - val_accuracy: 0.6469\n",
      "Epoch 99/100\n",
      "97/97 [==============================] - 7s 72ms/step - loss: 0.0739 - accuracy: 0.9688 - val_loss: 1.5868 - val_accuracy: 0.6587\n",
      "Epoch 100/100\n",
      "97/97 [==============================] - 7s 72ms/step - loss: 0.0637 - accuracy: 0.9740 - val_loss: 2.1085 - val_accuracy: 0.6070\n"
     ]
    },
    {
     "data": {
      "text/plain": [
       "<keras.callbacks.History at 0x7f15cc43bd60>"
      ]
     },
     "execution_count": 45,
     "metadata": {},
     "output_type": "execute_result"
    }
   ],
   "source": [
    "# train optimised model in full\n",
    "\n",
    "model = tf.keras.models.load_model('./models/optimise/best_tuned.keras')\n",
    "model.compile(\n",
    "\toptimizer=\"adam\",\n",
    "\tloss=\"binary_crossentropy\",\n",
    "\tmetrics=[\"accuracy\"],\n",
    ")\n",
    "\n",
    "model_checkpoint_callback = keras.callbacks.ModelCheckpoint(\n",
    "    filepath=\"./models/optimise/best_tuned_full.keras\",\n",
    "    monitor='val_accuracy',\n",
    "    mode='max',\n",
    "    save_best_only=True\n",
    ")\n",
    "model.fit(X_conv, y, \n",
    "\tbatch_size=32,\n",
    "\tepochs=100,\n",
    "\tcallbacks=[model_checkpoint_callback],\n",
    "\tvalidation_data=(X_test_conv, y_test),\n",
    "\tverbose=1\n",
    ")"
   ]
  },
  {
   "cell_type": "code",
   "execution_count": 46,
   "metadata": {},
   "outputs": [
    {
     "name": "stdout",
     "output_type": "stream",
     "text": [
      "37/37 [==============================] - 1s 17ms/step - loss: 1.0444 - accuracy: 0.7037\n",
      "Accuracy of model for 400 datapoints:  0.7037351727485657\n"
     ]
    }
   ],
   "source": [
    "model = tf.keras.models.load_model('./models/optimise/best_tuned_full.keras')\n",
    "model.compile(\n",
    "\toptimizer=\"adam\",\n",
    "\tloss=\"binary_crossentropy\",\n",
    "\tmetrics=[\"accuracy\"],\n",
    ")\n",
    "\n",
    "result = model.evaluate(X_test_conv, y_test)\n",
    "print(\"Accuracy of model for \" + str(data) + \" datapoints: \", result[1])"
   ]
  }
 ],
 "metadata": {
  "kernelspec": {
   "display_name": "Python 3",
   "language": "python",
   "name": "python3"
  },
  "language_info": {
   "codemirror_mode": {
    "name": "ipython",
    "version": 3
   },
   "file_extension": ".py",
   "mimetype": "text/x-python",
   "name": "python",
   "nbconvert_exporter": "python",
   "pygments_lexer": "ipython3",
   "version": "3.8.10"
  }
 },
 "nbformat": 4,
 "nbformat_minor": 2
}

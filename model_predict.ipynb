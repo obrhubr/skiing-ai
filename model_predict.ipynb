{
 "cells": [
  {
   "cell_type": "code",
   "execution_count": 2,
   "metadata": {},
   "outputs": [
    {
     "name": "stderr",
     "output_type": "stream",
     "text": [
      "2024-01-28 10:31:18.429172: W tensorflow/stream_executor/platform/default/dso_loader.cc:64] Could not load dynamic library 'libcudart.so.11.0'; dlerror: libcudart.so.11.0: cannot open shared object file: No such file or directory\n",
      "2024-01-28 10:31:18.429207: I tensorflow/stream_executor/cuda/cudart_stub.cc:29] Ignore above cudart dlerror if you do not have a GPU set up on your machine.\n"
     ]
    }
   ],
   "source": [
    "import tensorflow as tf\n",
    "import folium\n",
    "from matplotlib import cm\n",
    "import pandas as pd\n",
    "\n",
    "from utils import *"
   ]
  },
  {
   "cell_type": "code",
   "execution_count": 8,
   "metadata": {},
   "outputs": [
    {
     "name": "stdout",
     "output_type": "stream",
     "text": [
      "Loading training data (type= test datapoints= 400 )...\n",
      "Reshaping input for convolution...\n"
     ]
    }
   ],
   "source": [
    "(df, X, y) = get_data_conv(\"test\", 400, 6, extra=\"quat_final\")"
   ]
  },
  {
   "cell_type": "code",
   "execution_count": 9,
   "metadata": {},
   "outputs": [
    {
     "name": "stdout",
     "output_type": "stream",
     "text": [
      "WARNING:tensorflow:Error in loading the saved optimizer state. As a result, your model is starting with a freshly initialized optimizer.\n"
     ]
    }
   ],
   "source": [
    "model = tf.keras.models.load_model('./models/optimise/best_tuned.keras')"
   ]
  },
  {
   "cell_type": "code",
   "execution_count": 10,
   "metadata": {},
   "outputs": [
    {
     "name": "stderr",
     "output_type": "stream",
     "text": [
      "2024-01-28 10:39:41.106639: W tensorflow/core/framework/cpu_allocator_impl.cc:82] Allocation of 37699200 exceeds 10% of free system memory.\n"
     ]
    }
   ],
   "source": [
    "predictions = model.predict(X)\n",
    "predictions = list(map(lambda x: round(x[0]), predictions))"
   ]
  },
  {
   "cell_type": "code",
   "execution_count": 13,
   "metadata": {},
   "outputs": [],
   "source": [
    "coords = [(row.latitude, row.longitude) for _, row in df.iterrows()]\n",
    "labels = [row.label for _, row in df.iterrows()]\n",
    "\n",
    "my_map = folium.Map(location=[df.latitude.mean(), df.longitude.mean()], zoom_start=14) \n",
    "\n",
    "# Add the points to the map (red for lift, green for piste)\n",
    "for point, pred, label in zip(coords, predictions, labels):\n",
    "    text = \"label: \" + (\"lift\" if label == 0 else \"piste\") + \", pred: \" + (\"lift\" if pred == 0 else \"piste\")\n",
    "    folium.CircleMarker(location=point,\n",
    "                        radius=2.0,\n",
    "                        popup=text,\n",
    "                        color=\"#fc0303\" if pred == 0 else \"#03fc18\").add_to(my_map)"
   ]
  },
  {
   "cell_type": "code",
   "execution_count": 14,
   "metadata": {},
   "outputs": [],
   "source": [
    "my_map.save(\"map.html\")"
   ]
  }
 ],
 "metadata": {
  "kernelspec": {
   "display_name": "Python 3",
   "language": "python",
   "name": "python3"
  },
  "language_info": {
   "codemirror_mode": {
    "name": "ipython",
    "version": 3
   },
   "file_extension": ".py",
   "mimetype": "text/x-python",
   "name": "python",
   "nbconvert_exporter": "python",
   "pygments_lexer": "ipython3",
   "version": "3.8.10"
  }
 },
 "nbformat": 4,
 "nbformat_minor": 2
}
